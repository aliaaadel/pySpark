{
 "cells": [
  {
   "cell_type": "markdown",
   "metadata": {},
   "source": [
    "# Regression in PySpark's MLlib Project\n",
    "\n",
    "Now it's time to put what you've learned to into action with a REAL project! \n",
    "\n",
    "You have been hired as a consultant to a cement production company who wants to be able to improve their customer experience around a number of areas like being able to provide recommendations to cusomters on optimal amounts of certian ingredients in the cement making process and perhaps even create an application where users can input their own values and received a predicted cement strength!\n",
    "\n",
    "I have provided a list of question below to help guide you through this project but feel free to deviate and make this project your own! But first, a bit about this dataset.\n",
    "\n",
    "### About this dataset \n",
    "This dataset contains 1030 instances of concrete samples, containing 9 attributes (8 continuous and 1 discreate), and 1 continuous quantitative output variable. There are no missing attribute values.\n",
    "\n",
    "I've also provided the variable name, variable type, the measurement unit and a brief description of each variable in the dataset. The concrete compressive strength is the outcome variable for our analysis. The order of this listing corresponds to the order of numerals along the rows of the database.\n",
    "\n",
    "Name -- Data Type -- Measurement -- Description\n",
    "\n",
    "- Cement -- quantitative -- kg in a m3 mixture -- Input Variable \n",
    "- Blast Furnace Slag -- quantitative -- kg in a m3 mixture -- Input Variable \n",
    "- Fly Ash -- quantitative -- kg in a m3 mixture -- Input Variable \n",
    "- Water -- quantitative -- kg in a m3 mixture -- Input Variable \n",
    "- Superplasticizer -- quantitative -- kg in a m3 mixture -- Input Variable \n",
    "- Coarse Aggregate -- quantitative -- kg in a m3 mixture -- Input Variable \n",
    "- Fine Aggregate -- quantitative -- kg in a m3 mixture -- Input Variable \n",
    "- Age -- quantitative -- Day (1~365) -- Input Variable \n",
    "- Concrete compressive strength -- quantitative -- MPa -- Output Variable\n",
    "\n",
    "**Source:** https://www.kaggle.com/maajdl/yeh-concret-data\n",
    "\n",
    "**Dataset Name:** Concrete_Data.csv"
   ]
  },
  {
   "cell_type": "code",
   "execution_count": 10,
   "metadata": {},
   "outputs": [
    {
     "name": "stdout",
     "output_type": "stream",
     "text": [
      "You are working with 1 core(s)\n"
     ]
    },
    {
     "data": {
      "text/html": [
       "\n",
       "            <div>\n",
       "                <p><b>SparkSession - in-memory</b></p>\n",
       "                \n",
       "        <div>\n",
       "            <p><b>SparkContext</b></p>\n",
       "\n",
       "            <p><a href=\"http://5ffde657c666:4040\">Spark UI</a></p>\n",
       "\n",
       "            <dl>\n",
       "              <dt>Version</dt>\n",
       "                <dd><code>v3.3.1</code></dd>\n",
       "              <dt>Master</dt>\n",
       "                <dd><code>local[*]</code></dd>\n",
       "              <dt>AppName</dt>\n",
       "                <dd><code>Regression</code></dd>\n",
       "            </dl>\n",
       "        </div>\n",
       "        \n",
       "            </div>\n",
       "        "
      ],
      "text/plain": [
       "<pyspark.sql.session.SparkSession at 0x7f193b740880>"
      ]
     },
     "execution_count": 10,
     "metadata": {},
     "output_type": "execute_result"
    }
   ],
   "source": [
    "import pyspark # only run after findspark.init()\n",
    "from pyspark.sql import SparkSession\n",
    "# May take awhile locally\n",
    "spark = SparkSession.builder.appName(\"Regression\").getOrCreate()\n",
    "\n",
    "cores = spark._jsc.sc().getExecutorMemoryStatus().keySet().size()\n",
    "print(\"You are working with\", cores, \"core(s)\")\n",
    "spark"
   ]
  },
  {
   "cell_type": "code",
   "execution_count": 11,
   "metadata": {},
   "outputs": [],
   "source": [
    "from pyspark.ml.feature import VectorAssembler\n",
    "from pyspark.sql.types import * \n",
    "from pyspark.sql.functions import *\n",
    "from pyspark.ml.feature import StringIndexer\n",
    "\n",
    "# To check for multicolinearity\n",
    "from pyspark.ml.stat import Correlation\n",
    "\n",
    "# For training and evaluation\n",
    "from pyspark.ml.regression import *\n",
    "from pyspark.ml.evaluation import *\n",
    "from pyspark.ml.tuning import CrossValidator, ParamGridBuilder"
   ]
  },
  {
   "cell_type": "code",
   "execution_count": 12,
   "metadata": {},
   "outputs": [],
   "source": [
    "path =\"Datasets/\"\n",
    "df = spark.read.csv(path+'Concrete_Data.csv',inferSchema=True,header=True)"
   ]
  },
  {
   "cell_type": "code",
   "execution_count": 13,
   "metadata": {},
   "outputs": [
    {
     "data": {
      "text/html": [
       "<div>\n",
       "<style scoped>\n",
       "    .dataframe tbody tr th:only-of-type {\n",
       "        vertical-align: middle;\n",
       "    }\n",
       "\n",
       "    .dataframe tbody tr th {\n",
       "        vertical-align: top;\n",
       "    }\n",
       "\n",
       "    .dataframe thead th {\n",
       "        text-align: right;\n",
       "    }\n",
       "</style>\n",
       "<table border=\"1\" class=\"dataframe\">\n",
       "  <thead>\n",
       "    <tr style=\"text-align: right;\">\n",
       "      <th></th>\n",
       "      <th>cement</th>\n",
       "      <th>slag</th>\n",
       "      <th>flyash</th>\n",
       "      <th>water</th>\n",
       "      <th>superplasticizer</th>\n",
       "      <th>coarseaggregate</th>\n",
       "      <th>fineaggregate</th>\n",
       "      <th>age</th>\n",
       "      <th>csMPa</th>\n",
       "    </tr>\n",
       "  </thead>\n",
       "  <tbody>\n",
       "    <tr>\n",
       "      <th>0</th>\n",
       "      <td>540.0</td>\n",
       "      <td>0.0</td>\n",
       "      <td>0.0</td>\n",
       "      <td>162.0</td>\n",
       "      <td>2.5</td>\n",
       "      <td>1040.0</td>\n",
       "      <td>676.0</td>\n",
       "      <td>28</td>\n",
       "      <td>79.99</td>\n",
       "    </tr>\n",
       "    <tr>\n",
       "      <th>1</th>\n",
       "      <td>540.0</td>\n",
       "      <td>0.0</td>\n",
       "      <td>0.0</td>\n",
       "      <td>162.0</td>\n",
       "      <td>2.5</td>\n",
       "      <td>1055.0</td>\n",
       "      <td>676.0</td>\n",
       "      <td>28</td>\n",
       "      <td>61.89</td>\n",
       "    </tr>\n",
       "    <tr>\n",
       "      <th>2</th>\n",
       "      <td>332.5</td>\n",
       "      <td>142.5</td>\n",
       "      <td>0.0</td>\n",
       "      <td>228.0</td>\n",
       "      <td>0.0</td>\n",
       "      <td>932.0</td>\n",
       "      <td>594.0</td>\n",
       "      <td>270</td>\n",
       "      <td>40.27</td>\n",
       "    </tr>\n",
       "    <tr>\n",
       "      <th>3</th>\n",
       "      <td>332.5</td>\n",
       "      <td>142.5</td>\n",
       "      <td>0.0</td>\n",
       "      <td>228.0</td>\n",
       "      <td>0.0</td>\n",
       "      <td>932.0</td>\n",
       "      <td>594.0</td>\n",
       "      <td>365</td>\n",
       "      <td>41.05</td>\n",
       "    </tr>\n",
       "    <tr>\n",
       "      <th>4</th>\n",
       "      <td>198.6</td>\n",
       "      <td>132.4</td>\n",
       "      <td>0.0</td>\n",
       "      <td>192.0</td>\n",
       "      <td>0.0</td>\n",
       "      <td>978.4</td>\n",
       "      <td>825.5</td>\n",
       "      <td>360</td>\n",
       "      <td>44.30</td>\n",
       "    </tr>\n",
       "  </tbody>\n",
       "</table>\n",
       "</div>"
      ],
      "text/plain": [
       "   cement   slag  flyash  water  superplasticizer  coarseaggregate  \\\n",
       "0   540.0    0.0     0.0  162.0               2.5           1040.0   \n",
       "1   540.0    0.0     0.0  162.0               2.5           1055.0   \n",
       "2   332.5  142.5     0.0  228.0               0.0            932.0   \n",
       "3   332.5  142.5     0.0  228.0               0.0            932.0   \n",
       "4   198.6  132.4     0.0  192.0               0.0            978.4   \n",
       "\n",
       "   fineaggregate  age  csMPa  \n",
       "0          676.0   28  79.99  \n",
       "1          676.0   28  61.89  \n",
       "2          594.0  270  40.27  \n",
       "3          594.0  365  41.05  \n",
       "4          825.5  360  44.30  "
      ]
     },
     "execution_count": 13,
     "metadata": {},
     "output_type": "execute_result"
    }
   ],
   "source": [
    "df.limit(5).toPandas()"
   ]
  },
  {
   "cell_type": "markdown",
   "metadata": {},
   "source": [
    "## check null values precentage in all columns "
   ]
  },
  {
   "cell_type": "code",
   "execution_count": 14,
   "metadata": {},
   "outputs": [
    {
     "name": "stdout",
     "output_type": "stream",
     "text": [
      "+----------------+-----------------+------------------+\n",
      "|     Column_Name|Null_Values_Count|Null_Value_Percent|\n",
      "+----------------+-----------------+------------------+\n",
      "|          cement|                0|               0.0|\n",
      "|            slag|                0|               0.0|\n",
      "|          flyash|                0|               0.0|\n",
      "|           water|                0|               0.0|\n",
      "|superplasticizer|                0|               0.0|\n",
      "| coarseaggregate|                0|               0.0|\n",
      "|   fineaggregate|                0|               0.0|\n",
      "|             age|                0|               0.0|\n",
      "|           csMPa|                0|               0.0|\n",
      "+----------------+-----------------+------------------+\n",
      "\n"
     ]
    }
   ],
   "source": [
    "from pyspark.sql.functions import *\n",
    "\n",
    "def null_value_calc(df):\n",
    "    null_columns_counts = []\n",
    "    numRows = df.count()\n",
    "    for k in df.columns:\n",
    "        nullRows = df.where(col(k).isNull()).count()\n",
    "        \n",
    "        if(nullRows > 0):\n",
    "            temp = k,nullRows,(nullRows/numRows)*100\n",
    "            null_columns_counts.append(temp)\n",
    "        else:\n",
    "            temp = k,nullRows,(nullRows/numRows)*100\n",
    "            null_columns_counts.append(temp)\n",
    "    return(null_columns_counts)\n",
    "\n",
    "null_columns_calc_list = null_value_calc(df)\n",
    "spark.createDataFrame(null_columns_calc_list, ['Column_Name', 'Null_Values_Count','Null_Value_Percent']).show()\n"
   ]
  },
  {
   "cell_type": "markdown",
   "metadata": {},
   "source": [
    "the data doesn't require cleaning  "
   ]
  },
  {
   "cell_type": "markdown",
   "metadata": {},
   "source": [
    "## Data formatting  \n",
    "treat outliers and skewness in each column and if there's any categorical data convert it to numeric values using string indexer  \n",
    "create label column of the dependent variable and vectorize the selected features "
   ]
  },
  {
   "cell_type": "code",
   "execution_count": 15,
   "metadata": {},
   "outputs": [],
   "source": [
    "def MLRegressDFPrep(df,input_columns,dependent_var,treat_outliers=True):\n",
    "\n",
    "    renamed = df.withColumnRenamed(dependent_var,'label')\n",
    "    \n",
    "    # Make sure dependent variable is numeric and change if it's not\n",
    "    if str(renamed.schema['label'].dataType) != 'IntegerType':\n",
    "        renamed = renamed.withColumn(\"label\", renamed[\"label\"].cast(FloatType()))\n",
    "    \n",
    "   # Convert all string type data in the input column list to numeric\n",
    "    # Otherwise the Algorithm will not be able to process it\n",
    "    numeric_inputs = []\n",
    "    string_inputs = []\n",
    "    for column in input_columns:\n",
    "        if str(renamed.schema[column].dataType) == 'StringType':\n",
    "            new_col_name = column+\"_num\"\n",
    "            string_inputs.append(new_col_name)\n",
    "        else:\n",
    "            numeric_inputs.append(column)\n",
    "            indexed = renamed\n",
    "            \n",
    "    if len(string_inputs) != 0: # If the datafraem contains string types\n",
    "        for column in input_columns:\n",
    "            if str(renamed.schema[column].dataType) == 'StringType':\n",
    "                indexer = StringIndexer(inputCol=column, outputCol=column+\"_num\") \n",
    "                indexed = indexer.fit(renamed).transform(renamed)\n",
    "    else:\n",
    "        indexed = renamed\n",
    "        \n",
    "            \n",
    "    if treat_outliers == True:\n",
    "        print(\"We are correcting for non normality now!\")\n",
    "        # empty dictionary d\n",
    "        d = {}\n",
    "        # Create a dictionary of quantiles\n",
    "        for col in numeric_inputs: \n",
    "            d[col] = indexed.approxQuantile(col,[0.01,0.99],0.25) #if you want to make it go faster increase the last number\n",
    "        #Now fill in the values\n",
    "        for col in numeric_inputs:\n",
    "            skew = indexed.agg(skewness(indexed[col])).collect() #check for skewness\n",
    "            skew = skew[0][0]\n",
    "            # This function will floor, cap and then log+1 (just in case there are 0 values)\n",
    "            if skew > 1:\n",
    "                indexed = indexed.withColumn(col, \\\n",
    "                log(when(df[col] < d[col][0],d[col][0])\\\n",
    "                .when(indexed[col] > d[col][1], d[col][1])\\\n",
    "                .otherwise(indexed[col] ) +1).alias(col))\n",
    "                print(col+\" has been treated for positive (right) skewness. (skew =)\",skew,\")\")\n",
    "            elif skew < -1:\n",
    "                indexed = indexed.withColumn(col, \\\n",
    "                exp(when(df[col] < d[col][0],d[col][0])\\\n",
    "                .when(indexed[col] > d[col][1], d[col][1])\\\n",
    "                .otherwise(indexed[col] )).alias(col))\n",
    "                print(col+\" has been treated for negative (left) skewness. (skew =\",skew,\")\")\n",
    "                \n",
    "    # Vectorize your features\n",
    "    features_list = numeric_inputs + string_inputs\n",
    "    assembler = VectorAssembler(inputCols=features_list,outputCol='features')\n",
    "    final_data = assembler.transform(indexed).select('features','label')\n",
    "        \n",
    "    return final_data"
   ]
  },
  {
   "cell_type": "code",
   "execution_count": 16,
   "metadata": {},
   "outputs": [
    {
     "data": {
      "text/plain": [
       "['cement',\n",
       " 'slag',\n",
       " 'flyash',\n",
       " 'water',\n",
       " 'superplasticizer',\n",
       " 'coarseaggregate',\n",
       " 'fineaggregate',\n",
       " 'age',\n",
       " 'csMPa']"
      ]
     },
     "execution_count": 16,
     "metadata": {},
     "output_type": "execute_result"
    }
   ],
   "source": [
    "df.columns"
   ]
  },
  {
   "cell_type": "code",
   "execution_count": 17,
   "metadata": {},
   "outputs": [
    {
     "name": "stdout",
     "output_type": "stream",
     "text": [
      "We are correcting for non normality now!\n",
      "age has been treated for positive (right) skewness. (skew =) 3.2644145354168086 )\n",
      "+--------------------+-----+\n",
      "|            features|label|\n",
      "+--------------------+-----+\n",
      "|[540.0,0.0,0.0,16...|79.99|\n",
      "|[540.0,0.0,0.0,16...|61.89|\n",
      "|[332.5,142.5,0.0,...|40.27|\n",
      "|[332.5,142.5,0.0,...|41.05|\n",
      "|[198.6,132.4,0.0,...| 44.3|\n",
      "+--------------------+-----+\n",
      "only showing top 5 rows\n",
      "\n"
     ]
    }
   ],
   "source": [
    "from pyspark.ml.feature import VectorAssembler\n",
    "from pyspark.sql.types import * \n",
    "from pyspark.sql.functions import *\n",
    "from pyspark.ml.feature import StringIndexer\n",
    "from pyspark.ml.feature import MinMaxScaler\n",
    "\n",
    "input_columns = df.columns[:-1]\n",
    "dependent_var = df.columns[-1]\n",
    "\n",
    "final_data = MLRegressDFPrep(df,input_columns,dependent_var)\n",
    "final_data.show(5)"
   ]
  },
  {
   "cell_type": "markdown",
   "metadata": {},
   "source": [
    "## check Multicollinearity  "
   ]
  },
  {
   "cell_type": "code",
   "execution_count": 18,
   "metadata": {},
   "outputs": [],
   "source": [
    "pearsonCorr = Correlation.corr(final_data, 'features', 'pearson').collect()[0][0]\n",
    "array = pearsonCorr.toArray()"
   ]
  },
  {
   "cell_type": "code",
   "execution_count": 19,
   "metadata": {},
   "outputs": [
    {
     "data": {
      "text/plain": [
       "<AxesSubplot: >"
      ]
     },
     "execution_count": 19,
     "metadata": {},
     "output_type": "execute_result"
    },
    {
     "data": {
      "image/png": "[encoded data removed]",
      "text/plain": [
       "<Figure size 640x480 with 2 Axes>"
      ]
     },
     "metadata": {},
     "output_type": "display_data"
    }
   ],
   "source": [
    "import seaborn as sns \n",
    "sns.heatmap(array, annot=True)"
   ]
  },
  {
   "cell_type": "markdown",
   "metadata": {},
   "source": [
    "water and superplasticizer are negatively correlateed (strong negative correlation)(feature 3 & 4) value = -0.66  \n",
    "water and age are negatively correlated value =-0.45 (feature 3 & 6)\n"
   ]
  },
  {
   "cell_type": "markdown",
   "metadata": {},
   "source": [
    "#### dropping colinear feature "
   ]
  },
  {
   "cell_type": "code",
   "execution_count": 20,
   "metadata": {},
   "outputs": [
    {
     "name": "stdout",
     "output_type": "stream",
     "text": [
      "We are correcting for non normality now!\n",
      "age has been treated for positive (right) skewness. (skew =) 3.2644145354168086 )\n",
      "+--------------------+-----+\n",
      "|            features|label|\n",
      "+--------------------+-----+\n",
      "|[540.0,0.0,0.0,2....|79.99|\n",
      "|[540.0,0.0,0.0,2....|61.89|\n",
      "|[332.5,142.5,0.0,...|40.27|\n",
      "|[332.5,142.5,0.0,...|41.05|\n",
      "|[198.6,132.4,0.0,...| 44.3|\n",
      "+--------------------+-----+\n",
      "only showing top 5 rows\n",
      "\n"
     ]
    }
   ],
   "source": [
    "df=df.drop('water')\n",
    "input_columns = df.columns[:-1]\n",
    "dependent_var = df.columns[-1]\n",
    "\n",
    "final_data = MLRegressDFPrep(df,input_columns,dependent_var)\n",
    "final_data.show(5)"
   ]
  },
  {
   "cell_type": "code",
   "execution_count": null,
   "metadata": {},
   "outputs": [],
   "source": []
  },
  {
   "cell_type": "code",
   "execution_count": 29,
   "metadata": {},
   "outputs": [],
   "source": [
    "pearsonCorr = Correlation.corr(final_data, 'features', 'pearson').collect()[0][0]\n",
    "array = pearsonCorr.toArray()"
   ]
  },
  {
   "cell_type": "code",
   "execution_count": 30,
   "metadata": {},
   "outputs": [
    {
     "data": {
      "text/plain": [
       "<AxesSubplot: >"
      ]
     },
     "execution_count": 30,
     "metadata": {},
     "output_type": "execute_result"
    },
    {
     "data": {
      "image/png": "[encoded data removed]",
      "text/plain": [
       "<Figure size 640x480 with 2 Axes>"
      ]
     },
     "metadata": {},
     "output_type": "display_data"
    }
   ],
   "source": [
    "import seaborn as sns \n",
    "sns.heatmap(array, annot=True)"
   ]
  },
  {
   "cell_type": "code",
   "execution_count": 31,
   "metadata": {},
   "outputs": [],
   "source": [
    "train,test = final_data.randomSplit([0.7,0.3])"
   ]
  },
  {
   "cell_type": "markdown",
   "metadata": {},
   "source": [
    "## training the model "
   ]
  },
  {
   "cell_type": "code",
   "execution_count": 32,
   "metadata": {},
   "outputs": [],
   "source": [
    "from pyspark.ml.regression import *\n",
    "from pyspark.ml.evaluation import *\n",
    "from pyspark.ml.tuning import CrossValidator, ParamGridBuilder"
   ]
  },
  {
   "cell_type": "code",
   "execution_count": null,
   "metadata": {},
   "outputs": [],
   "source": []
  },
  {
   "cell_type": "code",
   "execution_count": 33,
   "metadata": {},
   "outputs": [],
   "source": [
    "def RegressTrainEval(regressor):\n",
    "\n",
    "    def FindMtype(regressor):\n",
    "        # Intstantiate Model\n",
    "        M = regressor\n",
    "        # Learn what it is\n",
    "        Mtype = type(M).__name__\n",
    "        \n",
    "        return Mtype\n",
    "    \n",
    "    Mtype = FindMtype(regressor)\n",
    "#     print('\\033[1m' + Mtype + ':' + '\\033[0m')\n",
    "\n",
    "\n",
    "    if Mtype == \"LinearRegression\":\n",
    "        \n",
    "        #first without cross val\n",
    "        fitModel = regressor.fit(train)\n",
    "\n",
    "        # Load the Summary\n",
    "        trainingSummary = fitModel.summary\n",
    "        \n",
    "        # Print the coefficients and intercept for linear regression\n",
    "        print('\\033[1m' + \"Linear Regression Model Training Summary without cross validation:\"+ '\\033[0m')\n",
    "        print(\" \")\n",
    "        print(\"Intercept: %s\" % str(fitModel.intercept))\n",
    "        print(\"\")\n",
    "        print(\"Coefficients: \")\n",
    "        coeff_array = fitModel.coefficients.toArray()\n",
    "        # Convert from numpy array to list\n",
    "        coeff_list = []\n",
    "        for x in coeff_array:\n",
    "            coeff_list.append(float(x))\n",
    "        result = spark.createDataFrame(zip(input_columns,coeff_list), schema=['feature','coeff'])\n",
    "        print(result.orderBy(result[\"coeff\"].desc()).show(truncate=False))\n",
    "\n",
    "\n",
    "\n",
    "        # Summarize the model over the training set and print out some metrics\n",
    "        print(\"numIterations: %d\" % trainingSummary.totalIterations)\n",
    "        print(\"objectiveHistory: (scaled loss + regularization) at each iteration \\n %s\" % str(trainingSummary.objectiveHistory))\n",
    "        print(\"\")\n",
    "        \n",
    "        # Print the Errors\n",
    "        print(\"Training RMSE: %f\" % trainingSummary.rootMeanSquaredError)\n",
    "        print(\"Training r2: %f\" % trainingSummary.r2)\n",
    "        print(\"\")\n",
    "        \n",
    "\n",
    "        # Now load the test results\n",
    "        test_results = fitModel.evaluate(test)\n",
    "\n",
    "        # And print them\n",
    "        print(\"Test RMSE: {}\".format(test_results.rootMeanSquaredError))\n",
    "        print(\"Test r2: {}\".format(test_results.r2))\n",
    "        print(\"\")\n",
    "        \n",
    "        #Now train with cross val\n",
    "        paramGrid = (ParamGridBuilder() \\\n",
    "#              .addGrid(regressor.maxIter, [10, 15]) \\\n",
    "             .addGrid(regressor.regParam, [0.1, 0.01]) \\\n",
    "             .build())\n",
    "        \n",
    "        #Evaluator\n",
    "        revaluator = RegressionEvaluator(metricName=\"rmse\")\n",
    "        \n",
    "        #Cross Validator requires all of the following parameters:\n",
    "        crossval = CrossValidator(estimator=regressor,\n",
    "                                  estimatorParamMaps=paramGrid,\n",
    "                                  evaluator=revaluator,\n",
    "                                  numFolds=2) # 3 is best practice\n",
    "        \n",
    "        print('\\033[1m' + \"Linear Regression Model Summary WITH cross validation:\"+ '\\033[0m')\n",
    "        print(\" \")\n",
    "        # Run cross validations\n",
    "        fitModel = crossval.fit(train)\n",
    "        \n",
    "        #save model\n",
    "        global LR_BestModel \n",
    "        LR_BestModel = fitModel.bestModel\n",
    "        \n",
    "        print(\"Coefficients: \")\n",
    "        coeff_array = LR_BestModel.coefficients.toArray()\n",
    "        # Convert from numpy array to list\n",
    "        coeff_list = []\n",
    "        for x in coeff_array:\n",
    "            coeff_list.append(float(x))\n",
    "        result = spark.createDataFrame(zip(input_columns,coeff_list), schema=['feature','coeff'])\n",
    "        print(result.orderBy(result[\"coeff\"].desc()).show(truncate=False))\n",
    "        \n",
    "        # Get Model Summary Statistics\n",
    "        ModelSummary = fitModel.bestModel.summary\n",
    "        \n",
    "        print(\"Coefficient Standard Errors: \")\n",
    "        coeff_ste = ModelSummary.coefficientStandardErrors\n",
    "        result = spark.createDataFrame(zip(input_columns,coeff_ste), schema=['feature','coeff std error'])\n",
    "        print(result.orderBy(result[\"coeff std error\"].desc()).show(truncate=False))\n",
    "        print(\" \")\n",
    "        print(\"P Values: \") \n",
    "        # Then zip with input_columns list and create a df\n",
    "        pvalues = ModelSummary.pValues\n",
    "        result = spark.createDataFrame(zip(input_columns,pvalues), schema=['feature','P-Value'])\n",
    "        print(result.orderBy(result[\"P-Value\"].desc()).show(truncate=False))\n",
    "        print(\" \")\n",
    "        \n",
    "        # Use test set here so we can measure the accuracy of our model on new data\n",
    "        ModelPredictions = fitModel.transform(test)\n",
    "        \n",
    "        # cvModel uses the best model found from the Cross Validation\n",
    "        # Evaluate best model\n",
    "        test_results = revaluator.evaluate(ModelPredictions)\n",
    "        print('RMSE:', test_results)\n",
    "    \n",
    "        # Set the column names to match the external results dataframe that we will join with later:\n",
    "        columns = ['Regressor', 'Result']\n",
    "        \n",
    "        # Format results and return\n",
    "        rmse_str = [str(test_results)] #make this a string and convert to a list\n",
    "        Mtype = [Mtype] #make this a string\n",
    "        result = spark.createDataFrame(zip(Mtype,rmse_str), schema=columns)\n",
    "        result = result.withColumn('Result',result.Result.substr(0, 5))\n",
    "        return result\n",
    "\n",
    "    else:\n",
    "\n",
    "        # Add parameters of your choice here:\n",
    "        if Mtype in(\"RandomForestRegressor\"):\n",
    "            paramGrid = (ParamGridBuilder() \\\n",
    "#                            .addGrid(regressor.maxDepth, [2, 5, 10])\n",
    "#                            .addGrid(regressor.maxBins, [5, 10, 20])\n",
    "                           .addGrid(regressor.numTrees, [5, 20])\n",
    "                         .build())\n",
    "\n",
    "        # Add parameters of your choice here:\n",
    "        if Mtype in(\"GBTRegressor\"):\n",
    "            paramGrid = (ParamGridBuilder() \\\n",
    "#                          .addGrid(regressor.maxDepth, [2, 5, 10, 20, 30]) \\\n",
    "                         .addGrid(regressor.maxBins, [10, 20]) \\\n",
    "                         .addGrid(regressor.maxIter, [10, 15])\n",
    "                         .build())\n",
    "\n",
    "        # Add parameters of your choice here:\n",
    "        if Mtype in(\"DecisionTreeRegressor\"):\n",
    "            paramGrid = (ParamGridBuilder() \\\n",
    "#                          .addGrid(regressor.maxDepth, [2, 5, 10, 20, 30]) \\\n",
    "                         .addGrid(regressor.maxBins, [10, 20, 40]) \\\n",
    "                         .build())\n",
    "\n",
    "        #Cross Validator requires all of the following parameters:\n",
    "        crossval = CrossValidator(estimator=regressor,\n",
    "                                  estimatorParamMaps=paramGrid,\n",
    "                                  evaluator=RegressionEvaluator(metricName=\"rmse\"),\n",
    "                                  numFolds=2) # 3 is best practice\n",
    "        # Fit Model: Run cross-validation, and choose the best set of parameters.\n",
    "        fitModel = crossval.fit(train)\n",
    "        \n",
    "        # Get Best Model\n",
    "        BestModel = fitModel.bestModel\n",
    "\n",
    "        # FEATURE IMPORTANCES\n",
    "        # Estimate of the importance of each feature.\n",
    "        # Each feature’s importance is the average of its importance across all trees \n",
    "        # in the ensemble The importance vector is normalized to sum to 1. \n",
    "        print(\" \")\n",
    "        print('\\033[1m' + Mtype,\" Feature Importances\"+ '\\033[0m')\n",
    "        print(\"(Scores add up to 1)\")\n",
    "        print(\"Lowest score is the least important\")\n",
    "        print(\" \")\n",
    "        featureImportances = BestModel.featureImportances.toArray()\n",
    "        # Convert from numpy array to list\n",
    "        imp_scores = []\n",
    "        for x in featureImportances:\n",
    "            imp_scores.append(float(x))\n",
    "        # Then zip with input_columns list and create a df\n",
    "        result = spark.createDataFrame(zip(input_columns,imp_scores), schema=['feature','score'])\n",
    "        print(result.orderBy(result[\"score\"].desc()).show(truncate=False))\n",
    "        \n",
    "        #Create Global Variables for feature importances and models\n",
    "        if Mtype in(\"DecisionTreeRegressor\"):\n",
    "            global DT_featureImportances\n",
    "            DT_featureImportances = BestModel.featureImportances.toArray()\n",
    "            global DT_BestModel \n",
    "            DT_BestModel = fitModel.bestModel\n",
    "        if Mtype in(\"GBTRegressor\"):\n",
    "            global GBT_featureImportances\n",
    "            GBT_featureImportances = BestModel.featureImportances.toArray()\n",
    "            global GBT_BestModel \n",
    "            GBT_BestModel = fitModel.bestModel\n",
    "        if Mtype in(\"RandomForestRegressor\"):\n",
    "            global RF_featureImportances\n",
    "            RF_featureImportances = BestModel.featureImportances.toArray()\n",
    "            global RF_BestModel \n",
    "            RF_BestModel = fitModel.bestModel\n",
    "                    \n",
    "        # Set the column names to match the external results dataframe that we will join with later:\n",
    "        columns = ['Regressor', 'Result']\n",
    "        \n",
    "        # Make predictions.\n",
    "        predictions = fitModel.transform(test)\n",
    "        # Select (prediction, true label) and compute test error\n",
    "        evaluator = RegressionEvaluator(metricName=\"rmse\")\n",
    "        rmse = evaluator.evaluate(predictions)\n",
    "        rmse_str = [str(rmse)] #make this a string and convert to a list\n",
    "        Mtype = [Mtype] #make this a string\n",
    "        result = spark.createDataFrame(zip(Mtype,rmse_str), schema=columns)\n",
    "        # Clean up the Result column and output\n",
    "        result = result.withColumn('Result',result.Result.substr(0, 5))\n",
    "        return result"
   ]
  },
  {
   "cell_type": "code",
   "execution_count": 34,
   "metadata": {},
   "outputs": [
    {
     "name": "stdout",
     "output_type": "stream",
     "text": [
      "\u001b[1mLinear Regression Model Training Summary without cross validation:\u001b[0m\n",
      " \n",
      "Intercept: -156.10649070101462\n",
      "\n",
      "Coefficients: \n",
      "+----------------+-------------------+\n",
      "|feature         |coeff              |\n",
      "+----------------+-------------------+\n",
      "|age             |9.497239521464273  |\n",
      "|superplasticizer|0.2307057412070191 |\n",
      "|cement          |0.15305016279407044|\n",
      "|slag            |0.13728845324078653|\n",
      "|flyash          |0.12294886604665406|\n",
      "|fineaggregate   |0.0650023201559844 |\n",
      "|coarseaggregate |0.05098091561860772|\n",
      "+----------------+-------------------+\n",
      "\n",
      "None\n",
      "numIterations: 0\n",
      "objectiveHistory: (scaled loss + regularization) at each iteration \n",
      " [0.0]\n",
      "\n",
      "Training RMSE: 7.453432\n",
      "Training r2: 0.802022\n",
      "\n",
      "Test RMSE: 6.735711635524768\n",
      "Test r2: 0.8311648931674344\n",
      "\n",
      "\u001b[1mLinear Regression Model Summary WITH cross validation:\u001b[0m\n",
      " \n",
      "Coefficients: \n",
      "+----------------+-------------------+\n",
      "|feature         |coeff              |\n",
      "+----------------+-------------------+\n",
      "|age             |9.484710340401378  |\n",
      "|superplasticizer|0.23714134162345818|\n",
      "|cement          |0.1522861575253652 |\n",
      "|slag            |0.13636169787784175|\n",
      "|flyash          |0.12178566669962038|\n",
      "|fineaggregate   |0.06432881823402144|\n",
      "|coarseaggregate |0.05054274797856647|\n",
      "+----------------+-------------------+\n",
      "\n",
      "None\n",
      "Coefficient Standard Errors: \n",
      "+----------------+---------------------+\n",
      "|feature         |coeff std error      |\n",
      "+----------------+---------------------+\n",
      "|age             |0.2562114321804597   |\n",
      "|superplasticizer|0.06471108039954865  |\n",
      "|flyash          |0.008297567195694933 |\n",
      "|slag            |0.006182580558318851 |\n",
      "|fineaggregate   |0.0052840106892280865|\n",
      "|cement          |0.005001649498836694 |\n",
      "|coarseaggregate |0.0044955343935287415|\n",
      "+----------------+---------------------+\n",
      "\n",
      "None\n",
      " \n",
      "P Values: \n",
      "+----------------+--------------------+\n",
      "|feature         |P-Value             |\n",
      "+----------------+--------------------+\n",
      "|superplasticizer|2.654003950497419E-4|\n",
      "|slag            |0.0                 |\n",
      "|coarseaggregate |0.0                 |\n",
      "|cement          |0.0                 |\n",
      "|flyash          |0.0                 |\n",
      "|fineaggregate   |0.0                 |\n",
      "|age             |0.0                 |\n",
      "+----------------+--------------------+\n",
      "\n",
      "None\n",
      " \n",
      "RMSE: 6.735855510590997\n",
      " \n",
      "\u001b[1mDecisionTreeRegressor  Feature Importances\u001b[0m\n",
      "(Scores add up to 1)\n",
      "Lowest score is the least important\n",
      " \n",
      "+----------------+--------------------+\n",
      "|feature         |score               |\n",
      "+----------------+--------------------+\n",
      "|cement          |0.4368548854708594  |\n",
      "|age             |0.3409017901716887  |\n",
      "|superplasticizer|0.11119714099324575 |\n",
      "|slag            |0.07445996319689606 |\n",
      "|fineaggregate   |0.026890184463950455|\n",
      "|coarseaggregate |0.007456317205665163|\n",
      "|flyash          |0.00223971849769464 |\n",
      "+----------------+--------------------+\n",
      "\n",
      "None\n",
      " \n",
      "\u001b[1mRandomForestRegressor  Feature Importances\u001b[0m\n",
      "(Scores add up to 1)\n",
      "Lowest score is the least important\n",
      " \n",
      "+----------------+-------------------+\n",
      "|feature         |score              |\n",
      "+----------------+-------------------+\n",
      "|age             |0.3942179931311064 |\n",
      "|cement          |0.3398105054271047 |\n",
      "|superplasticizer|0.10419176338523002|\n",
      "|slag            |0.06362578983238285|\n",
      "|coarseaggregate |0.03807131271295109|\n",
      "|fineaggregate   |0.03787358526342185|\n",
      "|flyash          |0.02220905024780311|\n",
      "+----------------+-------------------+\n",
      "\n",
      "None\n",
      " \n",
      "\u001b[1mGBTRegressor  Feature Importances\u001b[0m\n",
      "(Scores add up to 1)\n",
      "Lowest score is the least important\n",
      " \n",
      "+----------------+-------------------+\n",
      "|feature         |score              |\n",
      "+----------------+-------------------+\n",
      "|age             |0.31297806983174237|\n",
      "|cement          |0.25026215301475313|\n",
      "|superplasticizer|0.14264540021935418|\n",
      "|slag            |0.08954922645082435|\n",
      "|fineaggregate   |0.08290023920128223|\n",
      "|coarseaggregate |0.0825956935867862 |\n",
      "|flyash          |0.03906921769525766|\n",
      "+----------------+-------------------+\n",
      "\n",
      "None\n",
      "+---------------------+------+\n",
      "|Regressor            |Result|\n",
      "+---------------------+------+\n",
      "|LinearRegression     |6.735 |\n",
      "|DecisionTreeRegressor|8.510 |\n",
      "|RandomForestRegressor|6.939 |\n",
      "|GBTRegressor         |6.701 |\n",
      "+---------------------+------+\n",
      "\n"
     ]
    }
   ],
   "source": [
    "regressors = [\n",
    "                LinearRegression()\n",
    "                ,DecisionTreeRegressor()\n",
    "                ,RandomForestRegressor()\n",
    "                ,GBTRegressor()\n",
    "                ] \n",
    "    \n",
    "#set up your results table\n",
    "columns = ['Regressor', 'Result']\n",
    "vals = [(\"Place Holder\",\"N/A\")]\n",
    "results = spark.createDataFrame(vals, columns)\n",
    "\n",
    "for regressor in regressors:\n",
    "    new_result = RegressTrainEval(regressor)\n",
    "    results = results.union(new_result)\n",
    "results = results.where(\"Regressor!='Place Holder'\")\n",
    "results.show(100,False)"
   ]
  },
  {
   "cell_type": "markdown",
   "metadata": {},
   "source": [
    "the Gradient Boost regressor scores the lowest rmse "
   ]
  },
  {
   "cell_type": "code",
   "execution_count": 36,
   "metadata": {},
   "outputs": [
    {
     "name": "stdout",
     "output_type": "stream",
     "text": [
      "+--------------------+-----+------------------+--------------------+--------------------+\n",
      "|            features|label|        prediction|          difference|          diff perct|\n",
      "+--------------------+-----+------------------+--------------------+--------------------+\n",
      "|[102.0,153.0,0.0,...| 4.57| 8.424848405386618|  3.8548482337252405|   84.35116168330143|\n",
      "|[102.0,153.0,0.0,...| 7.68| 12.23420011199393|   4.554200283655307|   59.29948418554191|\n",
      "|[132.0,207.0,161....| 33.3| 35.16190953495078|  1.8619102978902333|   5.591322343989902|\n",
      "|[133.0,210.0,0.0,...|31.03|32.736138192519334|  1.7061375058738264|   5.498348269802336|\n",
      "|[135.0,105.0,193....|21.91|26.751868304239565|   4.841868456827456|  22.098897720436774|\n",
      "|[135.7,203.5,0.0,...| 7.51| 9.992945952704527|  2.4829457238226915|   33.06185949600666|\n",
      "|[136.0,162.0,126....|29.07|30.773198675370146|  1.7031989805459276|    5.85895768292414|\n",
      "|[139.9,132.6,103....|36.44|26.406991871287225|  -10.03300675542176| -27.532950421320784|\n",
      "|[141.3,212.0,0.0,...|39.66| 39.30544868978096|-0.35455115763114975| -0.8939766994333079|\n",
      "|[142.0,167.0,130....|44.61| 34.00750229500135|  -10.60249831535021| -23.767088478564034|\n",
      "|[143.0,169.4,142....|29.73|27.213345655410414|  -2.516653886825914|  -8.465031703921136|\n",
      "|[145.0,116.0,119....|29.16| 29.14693608370771|-0.01306376370439...|-0.04480028728655016|\n",
      "|[147.0,115.0,89.0...|19.99|24.191008019533513|   4.201008248415349|  21.015549257209223|\n",
      "|[148.0,0.0,182.0,...|15.52|14.226696341803056| -1.2933041159606162|  -8.333144831279036|\n",
      "|[149.0,139.0,109....|23.69|28.123371320011177|    4.43337078595356|  18.714101671631383|\n",
      "|[151.0,0.0,184.0,...|15.57| 16.04515798955132|  0.4751582947271018|   3.051755324600642|\n",
      "|[153.0,102.0,0.0,...| 8.37| 9.548691458383786|  1.1786915728247038|  14.082336785432013|\n",
      "|[153.0,145.0,0.0,...|19.01| 25.50945845252443|   6.499458223642595|  34.189679881055376|\n",
      "|[153.0,145.0,113....|26.23|  26.2037945591148|-0.02620498312152...|-0.09990462668263164|\n",
      "|[153.1,145.0,113....|26.23|  26.2037945591148|-0.02620498312152...|-0.09990462668263164|\n",
      "+--------------------+-----+------------------+--------------------+--------------------+\n",
      "only showing top 20 rows\n",
      "\n",
      "None\n",
      "+-------+-------------------+\n",
      "|summary|         diff perct|\n",
      "+-------+-------------------+\n",
      "|  count|                282|\n",
      "|   mean|  4.336810293139224|\n",
      "| stddev| 25.675051161918464|\n",
      "|    min|-47.291468109911115|\n",
      "|    max| 158.27073282308825|\n",
      "+-------+-------------------+\n",
      "\n",
      "None\n"
     ]
    }
   ],
   "source": [
    "test_sample = test.limit(10)\n",
    "# predictions = GBT_BestModel.transform(test_sample) #testing the model on only 10 of the test dataset\n",
    "predictions = GBT_BestModel.transform(test)\n",
    "predictions = predictions.withColumn(\"difference\",predictions.prediction-predictions.label) \\\n",
    "                         .withColumn(\"diff perct\",((predictions.prediction-predictions.label)/predictions.label)*100)\n",
    "print(predictions.show())\n",
    "print(predictions.describe(['diff perct']).show())"
   ]
  },
  {
   "cell_type": "markdown",
   "metadata": {},
   "source": [
    "## 1. Which features are the strongest predictors of cement strength?\n",
    "\n",
    "Build your own ML model to figure this one out! This would be good information to give to our client so the sales reps can focus their efforts on certian ingredients to provide recommendations on. For example, if our clients had a customer that was struggling with their cement breaking, we could trouble shoot with them by starting with the factors that we know are important. "
   ]
  },
  {
   "cell_type": "code",
   "execution_count": 38,
   "metadata": {},
   "outputs": [
    {
     "data": {
      "text/plain": [
       "0.08954922645082435"
      ]
     },
     "execution_count": 38,
     "metadata": {},
     "output_type": "execute_result"
    }
   ],
   "source": [
    "GBT_featureImportances[1]"
   ]
  },
  {
   "cell_type": "code",
   "execution_count": 117,
   "metadata": {},
   "outputs": [
    {
     "data": {
      "text/plain": [
       "['age', 'cement', 'superplasticizer', 'slag', 'fineaggregate']"
      ]
     },
     "execution_count": 117,
     "metadata": {},
     "output_type": "execute_result"
    }
   ],
   "source": [
    "import numpy as np\n",
    "top_5_idx = np.argsort(GBT_featureImportances)[-5:][::-1].astype(int)\n",
    "top_5_values = [float(GBT_featureImportances[i]) for i in top_5_idx]\n",
    "input_columns = df.columns[:-1]\n",
    "input_columns_top_5= [input_columns[i] for i in top_5_idx ]\n",
    "input_columns_top_5"
   ]
  },
  {
   "cell_type": "code",
   "execution_count": 119,
   "metadata": {},
   "outputs": [
    {
     "name": "stdout",
     "output_type": "stream",
     "text": [
      "+----------------+-------------------+\n",
      "|         feature|              score|\n",
      "+----------------+-------------------+\n",
      "|             age|0.31297806983174237|\n",
      "|          cement|0.25026215301475313|\n",
      "|superplasticizer|0.14264540021935418|\n",
      "|            slag|0.08954922645082435|\n",
      "|   fineaggregate|0.08290023920128223|\n",
      "+----------------+-------------------+\n",
      "\n"
     ]
    }
   ],
   "source": [
    "result = spark.createDataFrame(zip(input_columns_top_5,top_5_values), schema=['feature','score'])\n",
    "result.show()"
   ]
  },
  {
   "cell_type": "markdown",
   "metadata": {},
   "source": [
    "##### it's shown that cement and age are the top 2 values "
   ]
  },
  {
   "cell_type": "code",
   "execution_count": null,
   "metadata": {},
   "outputs": [],
   "source": []
  },
  {
   "cell_type": "code",
   "execution_count": null,
   "metadata": {},
   "outputs": [],
   "source": []
  },
  {
   "cell_type": "code",
   "execution_count": null,
   "metadata": {},
   "outputs": [],
   "source": []
  },
  {
   "cell_type": "markdown",
   "metadata": {},
   "source": [
    "## 2. For the following given inputs, what would be the estimated cement strength?\n",
    "\n",
    "- Cement: 540\n",
    "- Blast Furnace Slag: 0\n",
    "- Fly Ash: 0\n",
    "- Water: 162\n",
    "- Superplasticizer: 2.5\n",
    "- Coarse Aggregate: 1040\n",
    "- Fine Aggregate: 676\n",
    "- Age: 28\n",
    "\n",
    "The correct answer is 79.99. Let's how close your prediction is!"
   ]
  },
  {
   "cell_type": "code",
   "execution_count": 79,
   "metadata": {},
   "outputs": [
    {
     "name": "stdout",
     "output_type": "stream",
     "text": [
      "+------+----+------+----------------+---------------+-------------+---+\n",
      "|cement|slag|flyash|superplasticizer|coarseaggregate|fineaggregate|age|\n",
      "+------+----+------+----------------+---------------+-------------+---+\n",
      "|   540|   0|     0|             2.5|           1040|          676| 28|\n",
      "+------+----+------+----------------+---------------+-------------+---+\n",
      "\n"
     ]
    }
   ],
   "source": [
    "test_entry=spark.createDataFrame([(540,0,0,2.5,1040,676,28)], schema=df.columns[:-1])\n",
    "test_entry.show()"
   ]
  },
  {
   "cell_type": "markdown",
   "metadata": {},
   "source": [
    "##### vectorize the test entry"
   ]
  },
  {
   "cell_type": "code",
   "execution_count": 81,
   "metadata": {},
   "outputs": [
    {
     "name": "stdout",
     "output_type": "stream",
     "text": [
      "+--------------------+\n",
      "|            features|\n",
      "+--------------------+\n",
      "|[540.0,0.0,0.0,2....|\n",
      "+--------------------+\n",
      "\n"
     ]
    }
   ],
   "source": [
    "assembler = VectorAssembler(inputCols=df.columns[:-1],outputCol='features')\n",
    "final_entry = assembler.transform(test_entry).select('features')\n",
    "final_entry.show()"
   ]
  },
  {
   "cell_type": "code",
   "execution_count": 83,
   "metadata": {},
   "outputs": [
    {
     "name": "stdout",
     "output_type": "stream",
     "text": [
      "+--------------------+-----------------+-------------------+-------------------+\n",
      "|            features|       prediction|         difference|         diff perct|\n",
      "+--------------------+-----------------+-------------------+-------------------+\n",
      "|[540.0,0.0,0.0,2....|68.36601760035781|-11.623982399642188|-14.531794473861966|\n",
      "+--------------------+-----------------+-------------------+-------------------+\n",
      "\n",
      "None\n",
      "+-------+-------------------+\n",
      "|summary|         diff perct|\n",
      "+-------+-------------------+\n",
      "|  count|                  1|\n",
      "|   mean|-14.531794473861966|\n",
      "| stddev|               null|\n",
      "|    min|-14.531794473861966|\n",
      "|    max|-14.531794473861966|\n",
      "+-------+-------------------+\n",
      "\n",
      "None\n"
     ]
    }
   ],
   "source": [
    "label = 79.99\n",
    "predictions = GBT_BestModel.transform(final_entry)\n",
    "predictions = predictions.withColumn(\"difference\",predictions.prediction-label) \\\n",
    "                         .withColumn(\"diff perct\",((predictions.prediction-label)/label)*100)\n",
    "print(predictions.show())\n",
    "print(predictions.describe(['diff perct']).show())"
   ]
  },
  {
   "cell_type": "code",
   "execution_count": null,
   "metadata": {},
   "outputs": [],
   "source": []
  },
  {
   "cell_type": "markdown",
   "metadata": {},
   "source": [
    "## 3. Now see if you can ask users to input their own value for Age and return a predicted value for the cement stength. \n",
    "\n",
    "We did not cover this is in the lecture so you'll have to put your thinking cap on. Accepting user input in PySpark works just like it does in traditional Python.\n",
    "<br>\n",
    "\n",
    "val = input(\"Enter your value: \") "
   ]
  },
  {
   "cell_type": "code",
   "execution_count": 90,
   "metadata": {},
   "outputs": [
    {
     "name": "stdin",
     "output_type": "stream",
     "text": [
      "Enter your value:  28\n"
     ]
    }
   ],
   "source": [
    "val = int(input(\"Enter your value: \"))"
   ]
  },
  {
   "cell_type": "code",
   "execution_count": 91,
   "metadata": {},
   "outputs": [
    {
     "name": "stdout",
     "output_type": "stream",
     "text": [
      "+------+----+------+----------------+---------------+-------------+---+\n",
      "|cement|slag|flyash|superplasticizer|coarseaggregate|fineaggregate|age|\n",
      "+------+----+------+----------------+---------------+-------------+---+\n",
      "|   540|   0|     0|             2.5|           1040|          676| 28|\n",
      "+------+----+------+----------------+---------------+-------------+---+\n",
      "\n"
     ]
    }
   ],
   "source": [
    "test_entry=spark.createDataFrame([(540,0,0,2.5,1040,676,val)], schema=df.columns[:-1])\n",
    "test_entry.show()"
   ]
  },
  {
   "cell_type": "code",
   "execution_count": 92,
   "metadata": {},
   "outputs": [
    {
     "name": "stdout",
     "output_type": "stream",
     "text": [
      "+--------------------+\n",
      "|            features|\n",
      "+--------------------+\n",
      "|[540.0,0.0,0.0,2....|\n",
      "+--------------------+\n",
      "\n"
     ]
    }
   ],
   "source": [
    "assembler = VectorAssembler(inputCols=df.columns[:-1],outputCol='features')\n",
    "final_entry = assembler.transform(test_entry).select('features')\n",
    "final_entry.show()\n"
   ]
  },
  {
   "cell_type": "code",
   "execution_count": 93,
   "metadata": {},
   "outputs": [
    {
     "name": "stdout",
     "output_type": "stream",
     "text": [
      "+--------------------+-----------------+-------------------+-------------------+\n",
      "|            features|       prediction|         difference|         diff perct|\n",
      "+--------------------+-----------------+-------------------+-------------------+\n",
      "|[540.0,0.0,0.0,2....|68.36601760035781|-11.623982399642188|-14.531794473861966|\n",
      "+--------------------+-----------------+-------------------+-------------------+\n",
      "\n",
      "None\n",
      "+-------+-------------------+\n",
      "|summary|         diff perct|\n",
      "+-------+-------------------+\n",
      "|  count|                  1|\n",
      "|   mean|-14.531794473861966|\n",
      "| stddev|               null|\n",
      "|    min|-14.531794473861966|\n",
      "|    max|-14.531794473861966|\n",
      "+-------+-------------------+\n",
      "\n",
      "None\n"
     ]
    }
   ],
   "source": [
    "label = 79.99\n",
    "predictions = GBT_BestModel.transform(final_entry)\n",
    "predictions = predictions.withColumn(\"difference\",predictions.prediction-label) \\\n",
    "                         .withColumn(\"diff perct\",((predictions.prediction-label)/label)*100)\n",
    "print(predictions.show())\n",
    "print(predictions.describe(['diff perct']).show())"
   ]
  },
  {
   "cell_type": "code",
   "execution_count": null,
   "metadata": {},
   "outputs": [],
   "source": []
  },
  {
   "cell_type": "markdown",
   "metadata": {},
   "source": [
    "## 4. Make recommendations of optimal values for cement ingredients (our features)\n",
    "\n",
    "See if you can find the optimal amount of cement to recommend holding the rest of the values from the previous question constant, assuming that the higher the cement strength value the better. "
   ]
  },
  {
   "cell_type": "markdown",
   "metadata": {},
   "source": [
    "first start off by getting max and min value for cement in the dataset then create array of random numbers ranging between theses values   \n",
    "having an array of different cement values we enter it to the model and get the max value for strength"
   ]
  },
  {
   "cell_type": "code",
   "execution_count": 121,
   "metadata": {},
   "outputs": [
    {
     "data": {
      "text/plain": [
       "540.0"
      ]
     },
     "execution_count": 121,
     "metadata": {},
     "output_type": "execute_result"
    }
   ],
   "source": [
    "max_value = df.agg({\"cement\": \"max\"}).collect()[0][0]\n",
    "max_value"
   ]
  },
  {
   "cell_type": "code",
   "execution_count": 122,
   "metadata": {},
   "outputs": [
    {
     "data": {
      "text/plain": [
       "102.0"
      ]
     },
     "execution_count": 122,
     "metadata": {},
     "output_type": "execute_result"
    }
   ],
   "source": [
    "min_value = df.agg({\"cement\": \"min\"}).collect()[0][0]\n",
    "min_value"
   ]
  },
  {
   "cell_type": "code",
   "execution_count": 176,
   "metadata": {},
   "outputs": [
    {
     "data": {
      "text/plain": [
       "[102, 132, 162, 192, 222, 252, 282, 312, 342, 372, 402, 432, 462, 492, 522]"
      ]
     },
     "execution_count": 176,
     "metadata": {},
     "output_type": "execute_result"
    }
   ],
   "source": [
    "cement_range= np.arange(min_value,max_value,30).astype(int)\n",
    "cement_range.tolist()"
   ]
  },
  {
   "cell_type": "code",
   "execution_count": 177,
   "metadata": {},
   "outputs": [],
   "source": [
    "optimal_values=[]\n",
    "for i in range(len(cement_range)):\n",
    "    test_entry=spark.createDataFrame([(int(cement_range[i]),0,0,2.5,1040,676,28)], schema=df.columns[:-1])\n",
    "    assembler = VectorAssembler(inputCols=df.columns[:-1],outputCol='features')\n",
    "    final_entry = assembler.transform(test_entry).select('features')\n",
    "    predictions = GBT_BestModel.transform(final_entry)\n",
    "    optimal_values.append(float(predictions.collect()[0][1]))\n",
    "\n",
    "\n"
   ]
  },
  {
   "cell_type": "code",
   "execution_count": 178,
   "metadata": {},
   "outputs": [
    {
     "data": {
      "text/plain": [
       "[16.72229490174776,\n",
       " 16.72229490174776,\n",
       " 16.72229490174776,\n",
       " 47.001339652245946,\n",
       " 48.76330179134372,\n",
       " 49.81828149911848,\n",
       " 50.79344294600187,\n",
       " 50.79344294600187,\n",
       " 50.79344294600187,\n",
       " 67.64092059681336,\n",
       " 67.64092059681336,\n",
       " 67.64092059681336,\n",
       " 66.9470721839586,\n",
       " 68.36601760035781,\n",
       " 68.36601760035781]"
      ]
     },
     "execution_count": 178,
     "metadata": {},
     "output_type": "execute_result"
    }
   ],
   "source": [
    "optimal_values"
   ]
  },
  {
   "cell_type": "code",
   "execution_count": 179,
   "metadata": {},
   "outputs": [
    {
     "data": {
      "text/plain": [
       "array([522])"
      ]
     },
     "execution_count": 179,
     "metadata": {},
     "output_type": "execute_result"
    }
   ],
   "source": [
    "max_index= np.argsort(optimal_values)[-1:][::-1].astype(int)\n",
    "cement_range[max_index]"
   ]
  },
  {
   "cell_type": "markdown",
   "metadata": {},
   "source": [
    "### the value 522 is the optimum cement value for max strength"
   ]
  },
  {
   "cell_type": "code",
   "execution_count": null,
   "metadata": {},
   "outputs": [],
   "source": []
  }
 ],
 "metadata": {
  "kernelspec": {
   "display_name": "Python 3 (ipykernel)",
   "language": "python",
   "name": "python3"
  },
  "language_info": {
   "codemirror_mode": {
    "name": "ipython",
    "version": 3
   },
   "file_extension": ".py",
   "mimetype": "text/x-python",
   "name": "python",
   "nbconvert_exporter": "python",
   "pygments_lexer": "ipython3",
   "version": "3.10.8"
  }
 },
 "nbformat": 4,
 "nbformat_minor": 4
}
