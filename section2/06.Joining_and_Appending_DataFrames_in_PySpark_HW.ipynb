{
 "cells": [
  {
   "cell_type": "markdown",
   "metadata": {},
   "source": [
    "# Joining and Appending DataFrames in PySpark HW\n",
    "\n",
    "Now it's time to test your knowledge and further engrain the concepts we touched on in the lectures. Let's go ahead and get started.\n",
    "\n",
    "\n",
    "\n",
    "\n",
    "**As always let's start our Spark instance.**"
   ]
  },
  {
   "cell_type": "code",
   "execution_count": 1,
   "metadata": {},
   "outputs": [
    {
     "name": "stdout",
     "output_type": "stream",
     "text": [
      "You are working with 1 core(s)\n"
     ]
    },
    {
     "data": {
      "text/html": [
       "\n",
       "            <div>\n",
       "                <p><b>SparkSession - in-memory</b></p>\n",
       "                \n",
       "        <div>\n",
       "            <p><b>SparkContext</b></p>\n",
       "\n",
       "            <p><a href=\"http://5ffde657c666:4041\">Spark UI</a></p>\n",
       "\n",
       "            <dl>\n",
       "              <dt>Version</dt>\n",
       "                <dd><code>v3.3.1</code></dd>\n",
       "              <dt>Master</dt>\n",
       "                <dd><code>local[*]</code></dd>\n",
       "              <dt>AppName</dt>\n",
       "                <dd><code>joins</code></dd>\n",
       "            </dl>\n",
       "        </div>\n",
       "        \n",
       "            </div>\n",
       "        "
      ],
      "text/plain": [
       "<pyspark.sql.session.SparkSession at 0x7f3fd196a230>"
      ]
     },
     "execution_count": 1,
     "metadata": {},
     "output_type": "execute_result"
    }
   ],
   "source": [
    "\n",
    "import pyspark # only run after findspark.init()\n",
    "from pyspark.sql import SparkSession\n",
    "# May take awhile locally\n",
    "spark = SparkSession.builder.appName(\"joins\").getOrCreate()\n",
    "\n",
    "cores = spark._jsc.sc().getExecutorMemoryStatus().keySet().size()\n",
    "print(\"You are working with\", cores, \"core(s)\")\n",
    "spark"
   ]
  },
  {
   "cell_type": "markdown",
   "metadata": {},
   "source": [
    "## Read in the database\n",
    "\n",
    "Let cotinue working with our college courses dataframe to get some more insights and practice what we have learned!Let's read in the whole database using the loop function that we learned about in the lecture to automatically read in all the datasets from the uw-madision-courses folder (there are too many datasets to each one individually."
   ]
  },
  {
   "cell_type": "code",
   "execution_count": 2,
   "metadata": {},
   "outputs": [
    {
     "name": "stdout",
     "output_type": "stream",
     "text": [
      "Full list of dfs:\n",
      "['courses', 'course_offerings', 'grade_distributions', 'instructors', 'rooms', 'schedules', 'sections', 'subjects', 'subject_memberships', 'teachings']\n"
     ]
    }
   ],
   "source": [
    "import os\n",
    "\n",
    "path = \"Datasets/uw-madison-courses/\"\n",
    "\n",
    "df_list = []\n",
    "for filename in os.listdir(path):\n",
    "    if filename.endswith(\".csv\"):\n",
    "        filename_list = filename.split(\".\") #separate path from .csv\n",
    "        df_name = filename_list[0]\n",
    "        df = spark.read.csv(path+filename,inferSchema=True,header=True)\n",
    "        df.name = df_name\n",
    "        df_list.append(df_name)\n",
    "        exec(df_name + ' = df')\n",
    "        \n",
    "# QA\n",
    "print(\"Full list of dfs:\")\n",
    "print(df_list)"
   ]
  },
  {
   "cell_type": "markdown",
   "metadata": {},
   "source": [
    "Now check the contents of a few of the dataframses that were read in above."
   ]
  },
  {
   "cell_type": "code",
   "execution_count": 3,
   "metadata": {},
   "outputs": [
    {
     "data": {
      "text/html": [
       "<div>\n",
       "<style scoped>\n",
       "    .dataframe tbody tr th:only-of-type {\n",
       "        vertical-align: middle;\n",
       "    }\n",
       "\n",
       "    .dataframe tbody tr th {\n",
       "        vertical-align: top;\n",
       "    }\n",
       "\n",
       "    .dataframe thead th {\n",
       "        text-align: right;\n",
       "    }\n",
       "</style>\n",
       "<table border=\"1\" class=\"dataframe\">\n",
       "  <thead>\n",
       "    <tr style=\"text-align: right;\">\n",
       "      <th></th>\n",
       "      <th>uuid</th>\n",
       "      <th>facility_code</th>\n",
       "      <th>room_code</th>\n",
       "    </tr>\n",
       "  </thead>\n",
       "  <tbody>\n",
       "    <tr>\n",
       "      <th>0</th>\n",
       "      <td>04368a56-c959-3e4b-8b3d-f4cc3538fea5</td>\n",
       "      <td>OFF CAMPUS</td>\n",
       "      <td>null</td>\n",
       "    </tr>\n",
       "    <tr>\n",
       "      <th>1</th>\n",
       "      <td>2cc50da3-ef0e-3572-a557-ca44930a0688</td>\n",
       "      <td>0032</td>\n",
       "      <td>0249</td>\n",
       "    </tr>\n",
       "    <tr>\n",
       "      <th>2</th>\n",
       "      <td>ebbf62b4-2ac3-356b-b0fa-7897f4446a17</td>\n",
       "      <td>0032</td>\n",
       "      <td>B101</td>\n",
       "    </tr>\n",
       "    <tr>\n",
       "      <th>3</th>\n",
       "      <td>ed828265-475b-31b4-b9a8-daec2a600449</td>\n",
       "      <td>0032</td>\n",
       "      <td>0549</td>\n",
       "    </tr>\n",
       "    <tr>\n",
       "      <th>4</th>\n",
       "      <td>b277dc8e-bab1-3a12-bc17-48d4a364d297</td>\n",
       "      <td>0032</td>\n",
       "      <td>0349</td>\n",
       "    </tr>\n",
       "    <tr>\n",
       "      <th>...</th>\n",
       "      <td>...</td>\n",
       "      <td>...</td>\n",
       "      <td>...</td>\n",
       "    </tr>\n",
       "    <tr>\n",
       "      <th>1345</th>\n",
       "      <td>d3ace3fc-91f9-30fc-ae40-be2dba4187a7</td>\n",
       "      <td>0103</td>\n",
       "      <td>0012</td>\n",
       "    </tr>\n",
       "    <tr>\n",
       "      <th>1346</th>\n",
       "      <td>41be44ad-3ef7-3184-ab45-bff1b924eb49</td>\n",
       "      <td>0085</td>\n",
       "      <td>0448</td>\n",
       "    </tr>\n",
       "    <tr>\n",
       "      <th>1347</th>\n",
       "      <td>0a0ae4a0-2139-35e0-a927-c495a296d174</td>\n",
       "      <td>1245</td>\n",
       "      <td>0B32</td>\n",
       "    </tr>\n",
       "    <tr>\n",
       "      <th>1348</th>\n",
       "      <td>c48297dd-bcaa-31ef-933f-fd6c41601595</td>\n",
       "      <td>0482</td>\n",
       "      <td>1236</td>\n",
       "    </tr>\n",
       "    <tr>\n",
       "      <th>1349</th>\n",
       "      <td>1371caf7-0cfe-38e9-8c97-c50aec6a4934</td>\n",
       "      <td>0031</td>\n",
       "      <td>1156</td>\n",
       "    </tr>\n",
       "  </tbody>\n",
       "</table>\n",
       "<p>1350 rows × 3 columns</p>\n",
       "</div>"
      ],
      "text/plain": [
       "                                      uuid facility_code room_code\n",
       "0     04368a56-c959-3e4b-8b3d-f4cc3538fea5    OFF CAMPUS      null\n",
       "1     2cc50da3-ef0e-3572-a557-ca44930a0688          0032      0249\n",
       "2     ebbf62b4-2ac3-356b-b0fa-7897f4446a17          0032      B101\n",
       "3     ed828265-475b-31b4-b9a8-daec2a600449          0032      0549\n",
       "4     b277dc8e-bab1-3a12-bc17-48d4a364d297          0032      0349\n",
       "...                                    ...           ...       ...\n",
       "1345  d3ace3fc-91f9-30fc-ae40-be2dba4187a7          0103      0012\n",
       "1346  41be44ad-3ef7-3184-ab45-bff1b924eb49          0085      0448\n",
       "1347  0a0ae4a0-2139-35e0-a927-c495a296d174          1245      0B32\n",
       "1348  c48297dd-bcaa-31ef-933f-fd6c41601595          0482      1236\n",
       "1349  1371caf7-0cfe-38e9-8c97-c50aec6a4934          0031      1156\n",
       "\n",
       "[1350 rows x 3 columns]"
      ]
     },
     "execution_count": 3,
     "metadata": {},
     "output_type": "execute_result"
    }
   ],
   "source": [
    "rooms.toPandas()"
   ]
  },
  {
   "cell_type": "code",
   "execution_count": 4,
   "metadata": {},
   "outputs": [
    {
     "data": {
      "text/html": [
       "<div>\n",
       "<style scoped>\n",
       "    .dataframe tbody tr th:only-of-type {\n",
       "        vertical-align: middle;\n",
       "    }\n",
       "\n",
       "    .dataframe tbody tr th {\n",
       "        vertical-align: top;\n",
       "    }\n",
       "\n",
       "    .dataframe thead th {\n",
       "        text-align: right;\n",
       "    }\n",
       "</style>\n",
       "<table border=\"1\" class=\"dataframe\">\n",
       "  <thead>\n",
       "    <tr style=\"text-align: right;\">\n",
       "      <th></th>\n",
       "      <th>uuid</th>\n",
       "      <th>course_uuid</th>\n",
       "      <th>term_code</th>\n",
       "      <th>name</th>\n",
       "    </tr>\n",
       "  </thead>\n",
       "  <tbody>\n",
       "    <tr>\n",
       "      <th>0</th>\n",
       "      <td>344b3ebe-da7e-314c-83ed-9425269695fd</td>\n",
       "      <td>a3e3e1c3-543d-3bb5-ae65-5f2aec4ad1de</td>\n",
       "      <td>1092</td>\n",
       "      <td>Cooperative Education Prog</td>\n",
       "    </tr>\n",
       "    <tr>\n",
       "      <th>1</th>\n",
       "      <td>f718e6cd-33f0-3c14-a9a6-834d9c3610a8</td>\n",
       "      <td>a3e3e1c3-543d-3bb5-ae65-5f2aec4ad1de</td>\n",
       "      <td>1082</td>\n",
       "      <td>Cooperative Education Prog</td>\n",
       "    </tr>\n",
       "    <tr>\n",
       "      <th>2</th>\n",
       "      <td>ea3b717c-d66b-30dc-8b37-964d9688295f</td>\n",
       "      <td>a3e3e1c3-543d-3bb5-ae65-5f2aec4ad1de</td>\n",
       "      <td>1172</td>\n",
       "      <td>Cooperative Education Prog</td>\n",
       "    </tr>\n",
       "    <tr>\n",
       "      <th>3</th>\n",
       "      <td>075da420-5f49-3dd0-93df-13e3c152e1b1</td>\n",
       "      <td>a3e3e1c3-543d-3bb5-ae65-5f2aec4ad1de</td>\n",
       "      <td>1114</td>\n",
       "      <td>Cooperative Education Prog</td>\n",
       "    </tr>\n",
       "    <tr>\n",
       "      <th>4</th>\n",
       "      <td>2b4e216d-a728-3713-8c7c-19afffc6b2fd</td>\n",
       "      <td>a3e3e1c3-543d-3bb5-ae65-5f2aec4ad1de</td>\n",
       "      <td>1104</td>\n",
       "      <td>Cooperative Education Prog</td>\n",
       "    </tr>\n",
       "    <tr>\n",
       "      <th>...</th>\n",
       "      <td>...</td>\n",
       "      <td>...</td>\n",
       "      <td>...</td>\n",
       "      <td>...</td>\n",
       "    </tr>\n",
       "    <tr>\n",
       "      <th>81447</th>\n",
       "      <td>3573e335-e7be-33a6-b023-8704b3acc93b</td>\n",
       "      <td>4a7f3d9d-f2e5-3df2-8dee-2c2d02ed9098</td>\n",
       "      <td>1182</td>\n",
       "      <td>Conservation Planning</td>\n",
       "    </tr>\n",
       "    <tr>\n",
       "      <th>81448</th>\n",
       "      <td>5d437083-a1d0-38b8-aa70-ec3564da39a6</td>\n",
       "      <td>1220244c-2bbf-3169-8eb0-6a2da36f40f6</td>\n",
       "      <td>1182</td>\n",
       "      <td>null</td>\n",
       "    </tr>\n",
       "    <tr>\n",
       "      <th>81449</th>\n",
       "      <td>13278922-0726-3823-abda-dc14df03d8a6</td>\n",
       "      <td>516f637c-a244-3df0-ba3f-f11ce650543d</td>\n",
       "      <td>1182</td>\n",
       "      <td>Patient Ed. as Advocacy Strat.</td>\n",
       "    </tr>\n",
       "    <tr>\n",
       "      <th>81450</th>\n",
       "      <td>fd039fe4-32ec-31dd-a142-c7db54df784b</td>\n",
       "      <td>fbe0838f-9469-3d83-ad85-91ba5aabd1a3</td>\n",
       "      <td>1182</td>\n",
       "      <td>Multid. Appr. to Colon Cancer</td>\n",
       "    </tr>\n",
       "    <tr>\n",
       "      <th>81451</th>\n",
       "      <td>4e151e41-fdfb-3176-a96a-bec0715492a3</td>\n",
       "      <td>1b17abd5-39f9-3a2c-8eda-a88bf1871221</td>\n",
       "      <td>1182</td>\n",
       "      <td>null</td>\n",
       "    </tr>\n",
       "  </tbody>\n",
       "</table>\n",
       "<p>81452 rows × 4 columns</p>\n",
       "</div>"
      ],
      "text/plain": [
       "                                       uuid  \\\n",
       "0      344b3ebe-da7e-314c-83ed-9425269695fd   \n",
       "1      f718e6cd-33f0-3c14-a9a6-834d9c3610a8   \n",
       "2      ea3b717c-d66b-30dc-8b37-964d9688295f   \n",
       "3      075da420-5f49-3dd0-93df-13e3c152e1b1   \n",
       "4      2b4e216d-a728-3713-8c7c-19afffc6b2fd   \n",
       "...                                     ...   \n",
       "81447  3573e335-e7be-33a6-b023-8704b3acc93b   \n",
       "81448  5d437083-a1d0-38b8-aa70-ec3564da39a6   \n",
       "81449  13278922-0726-3823-abda-dc14df03d8a6   \n",
       "81450  fd039fe4-32ec-31dd-a142-c7db54df784b   \n",
       "81451  4e151e41-fdfb-3176-a96a-bec0715492a3   \n",
       "\n",
       "                                course_uuid  term_code  \\\n",
       "0      a3e3e1c3-543d-3bb5-ae65-5f2aec4ad1de       1092   \n",
       "1      a3e3e1c3-543d-3bb5-ae65-5f2aec4ad1de       1082   \n",
       "2      a3e3e1c3-543d-3bb5-ae65-5f2aec4ad1de       1172   \n",
       "3      a3e3e1c3-543d-3bb5-ae65-5f2aec4ad1de       1114   \n",
       "4      a3e3e1c3-543d-3bb5-ae65-5f2aec4ad1de       1104   \n",
       "...                                     ...        ...   \n",
       "81447  4a7f3d9d-f2e5-3df2-8dee-2c2d02ed9098       1182   \n",
       "81448  1220244c-2bbf-3169-8eb0-6a2da36f40f6       1182   \n",
       "81449  516f637c-a244-3df0-ba3f-f11ce650543d       1182   \n",
       "81450  fbe0838f-9469-3d83-ad85-91ba5aabd1a3       1182   \n",
       "81451  1b17abd5-39f9-3a2c-8eda-a88bf1871221       1182   \n",
       "\n",
       "                                 name  \n",
       "0          Cooperative Education Prog  \n",
       "1          Cooperative Education Prog  \n",
       "2          Cooperative Education Prog  \n",
       "3          Cooperative Education Prog  \n",
       "4          Cooperative Education Prog  \n",
       "...                               ...  \n",
       "81447           Conservation Planning  \n",
       "81448                            null  \n",
       "81449  Patient Ed. as Advocacy Strat.  \n",
       "81450   Multid. Appr. to Colon Cancer  \n",
       "81451                            null  \n",
       "\n",
       "[81452 rows x 4 columns]"
      ]
     },
     "execution_count": 4,
     "metadata": {},
     "output_type": "execute_result"
    }
   ],
   "source": [
    "course_offerings.toPandas()"
   ]
  },
  {
   "cell_type": "markdown",
   "metadata": {},
   "source": [
    "## Recap: About this database\n",
    "\n",
    "You will notice that there are several more tables in the uw-madision-courses folder than there are read in above. This so that you will have a chance to practice your own custom joins and learn about the relationships between a real database work. Sometimes we don't know how they are related and we need to figure it out! I'll save that for the HW :) \n",
    "\n",
    "Here is a look at some of the important variables we can use to join our tables:\n",
    "\n",
    " - course_offerings: uuid, course_uuid, term_code, name\n",
    " - instructors: id, name\n",
    " - schedules: uuid\n",
    " - sections: uuid, course_offering_uuid,room_uuid, schedule_uuid\n",
    " - teachings: instructor_id, section_uuid\n",
    " - courses: uuid\n",
    " - grade_distributions: course_offering_uuid,section_number\n",
    " - rooms: uuid, facility_code, room_code\n",
    " - subjects: code\n",
    " - subject_memberships: subject_code, course_offering_uuid\n",
    " \n",
    " **Source:** https://www.kaggle.com/Madgrades/uw-madison-courses\n",
    " \n",
    "So alright, let's use this information to discover some insights from this data!"
   ]
  },
  {
   "cell_type": "markdown",
   "metadata": {},
   "source": [
    "## 1a. Can you assign the room numbers to each section of each course?\n",
    "\n",
    "Show only the rooms uuid, facility code, room number, term code and the name of the course from the course_offerings table."
   ]
  },
  {
   "cell_type": "code",
   "execution_count": 39,
   "metadata": {},
   "outputs": [
    {
     "name": "stdout",
     "output_type": "stream",
     "text": [
      "+--------------------+-------------+---------+--------------------+\n",
      "|           room_uuid|facility_code|room_code|course_offering_uuid|\n",
      "+--------------------+-------------+---------+--------------------+\n",
      "|04368a56-c959-3e4...|   OFF CAMPUS|     null|ea3b717c-d66b-30d...|\n",
      "|04368a56-c959-3e4...|   OFF CAMPUS|     null|ea3b717c-d66b-30d...|\n",
      "|04368a56-c959-3e4...|   OFF CAMPUS|     null|075da420-5f49-3dd...|\n",
      "|04368a56-c959-3e4...|   OFF CAMPUS|     null|2b4e216d-a728-371...|\n",
      "|04368a56-c959-3e4...|   OFF CAMPUS|     null|ff511882-5eab-3e7...|\n",
      "|04368a56-c959-3e4...|   OFF CAMPUS|     null|ff511882-5eab-3e7...|\n",
      "|04368a56-c959-3e4...|   OFF CAMPUS|     null|b3e26604-fe6e-30d...|\n",
      "|04368a56-c959-3e4...|   OFF CAMPUS|     null|e100d196-5e82-32e...|\n",
      "|04368a56-c959-3e4...|   OFF CAMPUS|     null|e100d196-5e82-32e...|\n",
      "|04368a56-c959-3e4...|   OFF CAMPUS|     null|76b9c458-d3c2-38c...|\n",
      "|04368a56-c959-3e4...|   OFF CAMPUS|     null|76b9c458-d3c2-38c...|\n",
      "|04368a56-c959-3e4...|   OFF CAMPUS|     null|76b9c458-d3c2-38c...|\n",
      "|04368a56-c959-3e4...|   OFF CAMPUS|     null|c94b0026-46e5-318...|\n",
      "|04368a56-c959-3e4...|   OFF CAMPUS|     null|c94b0026-46e5-318...|\n",
      "|04368a56-c959-3e4...|   OFF CAMPUS|     null|e6fe4acb-9375-3b4...|\n",
      "|04368a56-c959-3e4...|   OFF CAMPUS|     null|e6fe4acb-9375-3b4...|\n",
      "|04368a56-c959-3e4...|   OFF CAMPUS|     null|e6fe4acb-9375-3b4...|\n",
      "|04368a56-c959-3e4...|   OFF CAMPUS|     null|73eb2c88-a7c0-36d...|\n",
      "|04368a56-c959-3e4...|   OFF CAMPUS|     null|73eb2c88-a7c0-36d...|\n",
      "|04368a56-c959-3e4...|   OFF CAMPUS|     null|f84c7f22-aa01-3d7...|\n",
      "+--------------------+-------------+---------+--------------------+\n",
      "only showing top 20 rows\n",
      "\n"
     ]
    }
   ],
   "source": [
    "rooms_new =rooms.withColumnRenamed('uuid', 'room_uuid')\n",
    "joined_data1=rooms_new.join(sections , \"room_uuid\" , how='inner').select(['room_uuid','facility_code','room_code','course_offering_uuid'])\n",
    "joined_data1.show()"
   ]
  },
  {
   "cell_type": "code",
   "execution_count": 41,
   "metadata": {},
   "outputs": [
    {
     "name": "stdout",
     "output_type": "stream",
     "text": [
      "+--------------------+-------------+---------+---------+--------------------+\n",
      "|           room_uuid|facility_code|room_code|term_code|                name|\n",
      "+--------------------+-------------+---------+---------+--------------------+\n",
      "|04368a56-c959-3e4...|   OFF CAMPUS|     null|     1172|Cooperative Educa...|\n",
      "|04368a56-c959-3e4...|   OFF CAMPUS|     null|     1172|Cooperative Educa...|\n",
      "|04368a56-c959-3e4...|   OFF CAMPUS|     null|     1114|Cooperative Educa...|\n",
      "|04368a56-c959-3e4...|   OFF CAMPUS|     null|     1104|Cooperative Educa...|\n",
      "|04368a56-c959-3e4...|   OFF CAMPUS|     null|     1134|Cooperative Educa...|\n",
      "|04368a56-c959-3e4...|   OFF CAMPUS|     null|     1134|Cooperative Educa...|\n",
      "|04368a56-c959-3e4...|   OFF CAMPUS|     null|     1084|Cooperative Educa...|\n",
      "|04368a56-c959-3e4...|   OFF CAMPUS|     null|     1154|Cooperative Educa...|\n",
      "|04368a56-c959-3e4...|   OFF CAMPUS|     null|     1154|Cooperative Educa...|\n",
      "|04368a56-c959-3e4...|   OFF CAMPUS|     null|     1162|Cooperative Educa...|\n",
      "|04368a56-c959-3e4...|   OFF CAMPUS|     null|     1162|Cooperative Educa...|\n",
      "|04368a56-c959-3e4...|   OFF CAMPUS|     null|     1162|Cooperative Educa...|\n",
      "|04368a56-c959-3e4...|   OFF CAMPUS|     null|     1142|Cooperative Educa...|\n",
      "|04368a56-c959-3e4...|   OFF CAMPUS|     null|     1142|Cooperative Educa...|\n",
      "|04368a56-c959-3e4...|   OFF CAMPUS|     null|     1152|Cooperative Educa...|\n",
      "|04368a56-c959-3e4...|   OFF CAMPUS|     null|     1152|Cooperative Educa...|\n",
      "|04368a56-c959-3e4...|   OFF CAMPUS|     null|     1152|Cooperative Educa...|\n",
      "|04368a56-c959-3e4...|   OFF CAMPUS|     null|     1144|Cooperative Educa...|\n",
      "|04368a56-c959-3e4...|   OFF CAMPUS|     null|     1144|Cooperative Educa...|\n",
      "|04368a56-c959-3e4...|   OFF CAMPUS|     null|     1094|Cooperative Educa...|\n",
      "+--------------------+-------------+---------+---------+--------------------+\n",
      "only showing top 20 rows\n",
      "\n"
     ]
    }
   ],
   "source": [
    "joined_data2=joined_data1.join(course_offerings , course_offerings.uuid ==joined_data1.course_offering_uuid  , how='inner').select(['room_uuid','facility_code','room_code','term_code','name'])\n",
    "joined_data2.show()"
   ]
  },
  {
   "cell_type": "code",
   "execution_count": null,
   "metadata": {},
   "outputs": [],
   "source": []
  },
  {
   "cell_type": "markdown",
   "metadata": {},
   "source": [
    "## 1b. Now show same output as above but for only facility number 0469 (facility_code)"
   ]
  },
  {
   "cell_type": "code",
   "execution_count": 44,
   "metadata": {},
   "outputs": [],
   "source": [
    "# joined_data=rooms.filter(rooms.facility_code == '0469').join(course_offerings, \"uuid\", how='left')\\\n",
    "#                                                         .select(['uuid','facility_code','room_code','term_code','name'])\n",
    "# joined_data.show(10)\n",
    "# joined_data.where(joined_data['facility_code'] == '0469').show(10)"
   ]
  },
  {
   "cell_type": "code",
   "execution_count": 42,
   "metadata": {},
   "outputs": [
    {
     "name": "stdout",
     "output_type": "stream",
     "text": [
      "+--------------------+-------------+---------+--------------------+\n",
      "|           room_uuid|facility_code|room_code|course_offering_uuid|\n",
      "+--------------------+-------------+---------+--------------------+\n",
      "|9759cb5f-a7d3-3d0...|         0469|     2441|bd5baa02-e0ca-39d...|\n",
      "|9759cb5f-a7d3-3d0...|         0469|     2441|2101e24a-f58f-33d...|\n",
      "|6af80b0b-b3e3-370...|         0469|     4411|821927cc-c5eb-38c...|\n",
      "|9759cb5f-a7d3-3d0...|         0469|     2441|a35e69d8-4355-3bf...|\n",
      "|9759cb5f-a7d3-3d0...|         0469|     2441|3e551eb9-a026-3eb...|\n",
      "|50322d30-dd8f-3c6...|         0469|     2511|19968d09-a08d-3e0...|\n",
      "|9759cb5f-a7d3-3d0...|         0469|     2441|42440324-78e9-3db...|\n",
      "|9759cb5f-a7d3-3d0...|         0469|     2441|c395095e-d2ec-38f...|\n",
      "|9759cb5f-a7d3-3d0...|         0469|     2441|7bcdf8aa-f943-38f...|\n",
      "|50322d30-dd8f-3c6...|         0469|     2511|011b2eae-6f5e-3e2...|\n",
      "|9759cb5f-a7d3-3d0...|         0469|     2441|9bba8c77-b564-301...|\n",
      "|9759cb5f-a7d3-3d0...|         0469|     2441|aa5ff023-35da-3b9...|\n",
      "|9759cb5f-a7d3-3d0...|         0469|     2441|2257cdb7-43c6-366...|\n",
      "|9759cb5f-a7d3-3d0...|         0469|     2441|2257cdb7-43c6-366...|\n",
      "|9759cb5f-a7d3-3d0...|         0469|     2441|949a468f-cbba-319...|\n",
      "|9759cb5f-a7d3-3d0...|         0469|     2441|949a468f-cbba-319...|\n",
      "|9759cb5f-a7d3-3d0...|         0469|     2441|5e5de348-fbab-39e...|\n",
      "|9759cb5f-a7d3-3d0...|         0469|     2441|5e5de348-fbab-39e...|\n",
      "|9759cb5f-a7d3-3d0...|         0469|     2441|2ad701ef-ce06-397...|\n",
      "|9759cb5f-a7d3-3d0...|         0469|     2441|5d1b0acb-9cda-3b3...|\n",
      "+--------------------+-------------+---------+--------------------+\n",
      "only showing top 20 rows\n",
      "\n"
     ]
    }
   ],
   "source": [
    "joined_data1=rooms_new.filter(rooms.facility_code == '0469').join(sections , \"room_uuid\" , how='inner').select(['room_uuid','facility_code','room_code','course_offering_uuid'])\n",
    "joined_data1.show()"
   ]
  },
  {
   "cell_type": "code",
   "execution_count": 43,
   "metadata": {},
   "outputs": [
    {
     "name": "stdout",
     "output_type": "stream",
     "text": [
      "+--------------------+-------------+---------+---------+--------------------+\n",
      "|           room_uuid|facility_code|room_code|term_code|                name|\n",
      "+--------------------+-------------+---------+---------+--------------------+\n",
      "|9759cb5f-a7d3-3d0...|         0469|     2441|     1152|  Fundamentals-Flute|\n",
      "|9759cb5f-a7d3-3d0...|         0469|     2441|     1092|  Fundamentals-Flute|\n",
      "|6af80b0b-b3e3-370...|         0469|     4411|     1172|  Fundamentals-Flute|\n",
      "|9759cb5f-a7d3-3d0...|         0469|     2441|     1162|  Fundamentals-Flute|\n",
      "|9759cb5f-a7d3-3d0...|         0469|     2441|     1132|  Fundamentals-Flute|\n",
      "|50322d30-dd8f-3c6...|         0469|     2511|     1072|  Fundamentals-Flute|\n",
      "|9759cb5f-a7d3-3d0...|         0469|     2441|     1142|  Fundamentals-Flute|\n",
      "|9759cb5f-a7d3-3d0...|         0469|     2441|     1112|  Fundamentals-Flute|\n",
      "|9759cb5f-a7d3-3d0...|         0469|     2441|     1102|  Fundamentals-Flute|\n",
      "|50322d30-dd8f-3c6...|         0469|     2511|     1082|  Fundamentals-Flute|\n",
      "|9759cb5f-a7d3-3d0...|         0469|     2441|     1122|  Fundamentals-Flute|\n",
      "|9759cb5f-a7d3-3d0...|         0469|     2441|     1182|  Fundamentals-Flute|\n",
      "|9759cb5f-a7d3-3d0...|         0469|     2441|     1172|Fundamentals: Sin...|\n",
      "|9759cb5f-a7d3-3d0...|         0469|     2441|     1172|Fundamentals: Sin...|\n",
      "|9759cb5f-a7d3-3d0...|         0469|     2441|     1152|Fundamentals: Sin...|\n",
      "|9759cb5f-a7d3-3d0...|         0469|     2441|     1152|Fundamentals: Sin...|\n",
      "|9759cb5f-a7d3-3d0...|         0469|     2441|     1072|Fundamentals: Sin...|\n",
      "|9759cb5f-a7d3-3d0...|         0469|     2441|     1072|Fundamentals: Sin...|\n",
      "|9759cb5f-a7d3-3d0...|         0469|     2441|     1122|Fundamentals: Sin...|\n",
      "|9759cb5f-a7d3-3d0...|         0469|     2441|     1102|Fundamentals: Sin...|\n",
      "+--------------------+-------------+---------+---------+--------------------+\n",
      "only showing top 20 rows\n",
      "\n"
     ]
    }
   ],
   "source": [
    "joined_data2=joined_data1.join(course_offerings , course_offerings.uuid ==joined_data1.course_offering_uuid  , how='inner').select(['room_uuid','facility_code','room_code','term_code','name'])\n",
    "joined_data2.show()"
   ]
  },
  {
   "cell_type": "code",
   "execution_count": 29,
   "metadata": {},
   "outputs": [],
   "source": [
    "# rooms.select('uuid','facility_code').filter(rooms['facility_code'] == '0469').show()"
   ]
  },
  {
   "cell_type": "markdown",
   "metadata": {},
   "source": [
    "## 2. Count how many sections are offered for each subject for each facility\n",
    "\n",
    "*Note: this will involve a groupby*"
   ]
  },
  {
   "cell_type": "code",
   "execution_count": 45,
   "metadata": {},
   "outputs": [
    {
     "name": "stdout",
     "output_type": "stream",
     "text": [
      "+--------------------+-------------+--------------------+\n",
      "|        section_uuid|facility_code|course_offering_uuid|\n",
      "+--------------------+-------------+--------------------+\n",
      "|9395dc21-15d1-3fa...|   OFF CAMPUS|ea3b717c-d66b-30d...|\n",
      "|da41b0aa-2b81-378...|   OFF CAMPUS|ea3b717c-d66b-30d...|\n",
      "|51c4dc00-1fc7-3c7...|   OFF CAMPUS|075da420-5f49-3dd...|\n",
      "|8fc362a6-d94e-3ad...|   OFF CAMPUS|2b4e216d-a728-371...|\n",
      "|b21564d2-2bc4-3b8...|   OFF CAMPUS|ff511882-5eab-3e7...|\n",
      "|8853d23e-64b1-3cf...|   OFF CAMPUS|ff511882-5eab-3e7...|\n",
      "|dfb55b25-ac7a-366...|   OFF CAMPUS|b3e26604-fe6e-30d...|\n",
      "|56ef2b0f-0776-309...|   OFF CAMPUS|e100d196-5e82-32e...|\n",
      "|ad67e659-fbf4-32a...|   OFF CAMPUS|e100d196-5e82-32e...|\n",
      "|c72fe508-e5cb-311...|   OFF CAMPUS|76b9c458-d3c2-38c...|\n",
      "|d6718082-bd04-378...|   OFF CAMPUS|76b9c458-d3c2-38c...|\n",
      "|6c32e394-bbae-3c6...|   OFF CAMPUS|76b9c458-d3c2-38c...|\n",
      "|2c983272-9f46-3d9...|   OFF CAMPUS|c94b0026-46e5-318...|\n",
      "|d53b52c5-7538-3e4...|   OFF CAMPUS|c94b0026-46e5-318...|\n",
      "|9465796d-7f08-356...|   OFF CAMPUS|e6fe4acb-9375-3b4...|\n",
      "|86a1c582-983c-3db...|   OFF CAMPUS|e6fe4acb-9375-3b4...|\n",
      "|d7ba74dc-2da5-39b...|   OFF CAMPUS|e6fe4acb-9375-3b4...|\n",
      "|92b2f9fb-c307-3c8...|   OFF CAMPUS|73eb2c88-a7c0-36d...|\n",
      "|d0c940ba-86a6-319...|   OFF CAMPUS|73eb2c88-a7c0-36d...|\n",
      "|51c98a53-54d4-3e5...|   OFF CAMPUS|f84c7f22-aa01-3d7...|\n",
      "+--------------------+-------------+--------------------+\n",
      "only showing top 20 rows\n",
      "\n"
     ]
    }
   ],
   "source": [
    "sections_new =sections.withColumnRenamed('uuid', 'section_uuid')\n",
    "joined_data1 = rooms_new.join(sections_new , \"room_uuid\" , how='inner')\\\n",
    "                                        .select(['section_uuid','facility_code','course_offering_uuid'])\n",
    "joined_data1.show()"
   ]
  },
  {
   "cell_type": "code",
   "execution_count": 46,
   "metadata": {},
   "outputs": [
    {
     "name": "stdout",
     "output_type": "stream",
     "text": [
      "+--------------------+-------------+--------------------+------------+\n",
      "|        section_uuid|facility_code|course_offering_uuid|subject_code|\n",
      "+--------------------+-------------+--------------------+------------+\n",
      "|9395dc21-15d1-3fa...|   OFF CAMPUS|ea3b717c-d66b-30d...|         240|\n",
      "|9395dc21-15d1-3fa...|   OFF CAMPUS|ea3b717c-d66b-30d...|         418|\n",
      "|9395dc21-15d1-3fa...|   OFF CAMPUS|ea3b717c-d66b-30d...|         490|\n",
      "|9395dc21-15d1-3fa...|   OFF CAMPUS|ea3b717c-d66b-30d...|         636|\n",
      "|9395dc21-15d1-3fa...|   OFF CAMPUS|ea3b717c-d66b-30d...|         207|\n",
      "|9395dc21-15d1-3fa...|   OFF CAMPUS|ea3b717c-d66b-30d...|         612|\n",
      "|9395dc21-15d1-3fa...|   OFF CAMPUS|ea3b717c-d66b-30d...|         346|\n",
      "|9395dc21-15d1-3fa...|   OFF CAMPUS|ea3b717c-d66b-30d...|         684|\n",
      "|9395dc21-15d1-3fa...|   OFF CAMPUS|ea3b717c-d66b-30d...|         320|\n",
      "|9395dc21-15d1-3fa...|   OFF CAMPUS|ea3b717c-d66b-30d...|         220|\n",
      "|da41b0aa-2b81-378...|   OFF CAMPUS|ea3b717c-d66b-30d...|         240|\n",
      "|da41b0aa-2b81-378...|   OFF CAMPUS|ea3b717c-d66b-30d...|         418|\n",
      "|da41b0aa-2b81-378...|   OFF CAMPUS|ea3b717c-d66b-30d...|         490|\n",
      "|da41b0aa-2b81-378...|   OFF CAMPUS|ea3b717c-d66b-30d...|         636|\n",
      "|da41b0aa-2b81-378...|   OFF CAMPUS|ea3b717c-d66b-30d...|         207|\n",
      "|da41b0aa-2b81-378...|   OFF CAMPUS|ea3b717c-d66b-30d...|         612|\n",
      "|da41b0aa-2b81-378...|   OFF CAMPUS|ea3b717c-d66b-30d...|         346|\n",
      "|da41b0aa-2b81-378...|   OFF CAMPUS|ea3b717c-d66b-30d...|         684|\n",
      "|da41b0aa-2b81-378...|   OFF CAMPUS|ea3b717c-d66b-30d...|         320|\n",
      "|da41b0aa-2b81-378...|   OFF CAMPUS|ea3b717c-d66b-30d...|         220|\n",
      "+--------------------+-------------+--------------------+------------+\n",
      "only showing top 20 rows\n",
      "\n"
     ]
    }
   ],
   "source": [
    "joined_data2=joined_data1.join(subject_memberships , [\"course_offering_uuid\"] , how='inner')\\\n",
    "                                        .select(['section_uuid','facility_code','course_offering_uuid','subject_code'])\n",
    "joined_data2.show()"
   ]
  },
  {
   "cell_type": "code",
   "execution_count": 54,
   "metadata": {},
   "outputs": [
    {
     "data": {
      "text/html": [
       "<div>\n",
       "<style scoped>\n",
       "    .dataframe tbody tr th:only-of-type {\n",
       "        vertical-align: middle;\n",
       "    }\n",
       "\n",
       "    .dataframe tbody tr th {\n",
       "        vertical-align: top;\n",
       "    }\n",
       "\n",
       "    .dataframe thead th {\n",
       "        text-align: right;\n",
       "    }\n",
       "</style>\n",
       "<table border=\"1\" class=\"dataframe\">\n",
       "  <thead>\n",
       "    <tr style=\"text-align: right;\">\n",
       "      <th></th>\n",
       "      <th>subject_code</th>\n",
       "      <th>facility_code</th>\n",
       "      <th>count</th>\n",
       "    </tr>\n",
       "  </thead>\n",
       "  <tbody>\n",
       "    <tr>\n",
       "      <th>0</th>\n",
       "      <td>448</td>\n",
       "      <td>0046</td>\n",
       "      <td>193</td>\n",
       "    </tr>\n",
       "    <tr>\n",
       "      <th>1</th>\n",
       "      <td>448</td>\n",
       "      <td>0050</td>\n",
       "      <td>36</td>\n",
       "    </tr>\n",
       "    <tr>\n",
       "      <th>2</th>\n",
       "      <td>900</td>\n",
       "      <td>0060</td>\n",
       "      <td>14</td>\n",
       "    </tr>\n",
       "    <tr>\n",
       "      <th>3</th>\n",
       "      <td>208</td>\n",
       "      <td>0400</td>\n",
       "      <td>10</td>\n",
       "    </tr>\n",
       "    <tr>\n",
       "      <th>4</th>\n",
       "      <td>351</td>\n",
       "      <td>0055</td>\n",
       "      <td>2</td>\n",
       "    </tr>\n",
       "    <tr>\n",
       "      <th>...</th>\n",
       "      <td>...</td>\n",
       "      <td>...</td>\n",
       "      <td>...</td>\n",
       "    </tr>\n",
       "    <tr>\n",
       "      <th>3961</th>\n",
       "      <td>244</td>\n",
       "      <td>0402</td>\n",
       "      <td>1</td>\n",
       "    </tr>\n",
       "    <tr>\n",
       "      <th>3962</th>\n",
       "      <td>490</td>\n",
       "      <td>0054</td>\n",
       "      <td>1</td>\n",
       "    </tr>\n",
       "    <tr>\n",
       "      <th>3963</th>\n",
       "      <td>240</td>\n",
       "      <td>0485</td>\n",
       "      <td>1</td>\n",
       "    </tr>\n",
       "    <tr>\n",
       "      <th>3964</th>\n",
       "      <td>900</td>\n",
       "      <td>0544</td>\n",
       "      <td>2</td>\n",
       "    </tr>\n",
       "    <tr>\n",
       "      <th>3965</th>\n",
       "      <td>503</td>\n",
       "      <td>0106</td>\n",
       "      <td>1</td>\n",
       "    </tr>\n",
       "  </tbody>\n",
       "</table>\n",
       "<p>3966 rows × 3 columns</p>\n",
       "</div>"
      ],
      "text/plain": [
       "      subject_code facility_code  count\n",
       "0              448          0046    193\n",
       "1              448          0050     36\n",
       "2              900          0060     14\n",
       "3              208          0400     10\n",
       "4              351          0055      2\n",
       "...            ...           ...    ...\n",
       "3961           244          0402      1\n",
       "3962           490          0054      1\n",
       "3963           240          0485      1\n",
       "3964           900          0544      2\n",
       "3965           503          0106      1\n",
       "\n",
       "[3966 rows x 3 columns]"
      ]
     },
     "execution_count": 54,
     "metadata": {},
     "output_type": "execute_result"
    }
   ],
   "source": [
    "joined_data2.groupBy([\"subject_code\",\"facility_code\"]).count().toPandas()"
   ]
  },
  {
   "cell_type": "code",
   "execution_count": null,
   "metadata": {},
   "outputs": [],
   "source": []
  },
  {
   "cell_type": "markdown",
   "metadata": {},
   "source": [
    "## 3. What are the hardest classes?\n",
    "\n",
    "Let's see if we can figure out which classes are the hardest by seeing how many students failed. Note that you will first need to aggregate the grades table by the course uuid to include all sections. Show the name of the course as well that you will need to get from the course_offering table."
   ]
  },
  {
   "cell_type": "code",
   "execution_count": 88,
   "metadata": {},
   "outputs": [
    {
     "name": "stdout",
     "output_type": "stream",
     "text": [
      "+--------------------+-------+\n",
      "|course_offering_uuid|total_F|\n",
      "+--------------------+-------+\n",
      "|cfeba94d-8e0e-320...|      7|\n",
      "|ceabe145-78e5-33c...|      4|\n",
      "|3b91b41e-1888-39c...|      1|\n",
      "|2e439330-d5b5-3a3...|      1|\n",
      "|951bb4bd-2055-355...|      4|\n",
      "|0456a49e-b717-364...|      4|\n",
      "|f8583533-03d8-39a...|      4|\n",
      "|de01255d-3488-3d2...|      2|\n",
      "|9160b322-6104-34e...|      7|\n",
      "|2f3ad380-d58d-37b...|     24|\n",
      "|a0eb0cec-f81f-3e7...|      3|\n",
      "|4d0a3374-abad-3a3...|      1|\n",
      "|740fd472-59e4-3f3...|      1|\n",
      "|c7d3c9fd-dbc2-34b...|      5|\n",
      "|93735d84-97f6-324...|      4|\n",
      "|06f15d4f-c8c7-3c8...|      1|\n",
      "|00167c90-18b1-3a6...|      2|\n",
      "|6e312a9e-dab2-350...|      1|\n",
      "|2a666e1a-e17b-3e1...|      1|\n",
      "|057515db-64b3-361...|      4|\n",
      "+--------------------+-------+\n",
      "only showing top 20 rows\n",
      "\n"
     ]
    }
   ],
   "source": [
    "grouped= grade_distributions.select('course_offering_uuid','f_count').filter(grade_distributions.f_count >0)\\\n",
    "                                        .groupBy('course_offering_uuid').agg(sum(grade_distributions.f_count).alias('total_F'))\n",
    "grouped.show()"
   ]
  },
  {
   "cell_type": "code",
   "execution_count": 89,
   "metadata": {},
   "outputs": [
    {
     "name": "stdout",
     "output_type": "stream",
     "text": [
      "+--------------------+-------+--------------------+\n",
      "|course_offering_uuid|total_F|                name|\n",
      "+--------------------+-------+--------------------+\n",
      "|b3e26604-fe6e-30d...|      1|Cooperative Educa...|\n",
      "|e6fe4acb-9375-3b4...|      1|Cooperative Educa...|\n",
      "|04a206fe-cf6a-3c7...|      1|Cooperative Educa...|\n",
      "|f84c7f22-aa01-3d7...|      1|Cooperative Educa...|\n",
      "|3c59e623-7e61-343...|      3|Workshop in Dance...|\n",
      "|a37b96cc-0586-3ea...|      3|Workshop in Dance...|\n",
      "|dd3caaea-05bf-383...|      1|Workshop in Dance...|\n",
      "|ea44cb23-33f5-354...|      1|Workshop in Dance...|\n",
      "|1e9f79ac-0850-3ad...|      1|Workshop in Dance...|\n",
      "|a97d123e-7005-395...|      2|Workshop in Dance...|\n",
      "|a254463d-8440-334...|      1|Workshop in Dance...|\n",
      "|da86adc6-3c59-3a0...|      1|    Ballroom Dance I|\n",
      "|5b62040e-c0d8-355...|      1|    Ballroom Dance I|\n",
      "|81f845ea-d594-3e0...|      1|    Ballroom Dance I|\n",
      "|ac6ec56e-ad7d-3d1...|      1|      Modern Dance I|\n",
      "|1f151924-65cf-32d...|      1|      Modern Dance I|\n",
      "|50e08207-c982-312...|      2|      Modern Dance I|\n",
      "|96f56d84-8c29-3dd...|      1|      Modern Dance I|\n",
      "|644293fb-203f-342...|      1|        Concert Band|\n",
      "|fd64c09a-67a8-3ca...|      1|     University Band|\n",
      "+--------------------+-------+--------------------+\n",
      "only showing top 20 rows\n",
      "\n"
     ]
    }
   ],
   "source": [
    "joined_data= grouped.join(course_offerings , course_offerings.uuid == grade_distributions.course_offering_uuid , how='inner')\\\n",
    "                                            .select(['course_offering_uuid','total_F','name'])\n",
    "joined_data.show()\n"
   ]
  },
  {
   "cell_type": "code",
   "execution_count": 105,
   "metadata": {},
   "outputs": [
    {
     "name": "stdout",
     "output_type": "stream",
     "text": [
      "+--------------------------+-------+\n",
      "|name                      |total_F|\n",
      "+--------------------------+-------+\n",
      "|Calc--Functns of Variables|72     |\n",
      "+--------------------------+-------+\n",
      "only showing top 1 row\n",
      "\n"
     ]
    }
   ],
   "source": [
    "joined_data.select('name','total_F').orderBy(joined_data.total_F.desc()).show(1,False)"
   ]
  },
  {
   "cell_type": "code",
   "execution_count": null,
   "metadata": {},
   "outputs": [],
   "source": []
  },
  {
   "cell_type": "code",
   "execution_count": null,
   "metadata": {},
   "outputs": [],
   "source": []
  },
  {
   "cell_type": "code",
   "execution_count": null,
   "metadata": {},
   "outputs": [],
   "source": []
  },
  {
   "cell_type": "code",
   "execution_count": null,
   "metadata": {},
   "outputs": [],
   "source": []
  },
  {
   "cell_type": "markdown",
   "metadata": {},
   "source": [
    "## Challenge Question: Automating data entry errors\n",
    "\n",
    "We see in the dataframe below that there are several typos of various animal names. If this was a large database of several millions of records, correcting these errors would be way too labor intensive. How can we automate correcting these errors?\n",
    "\n",
    "*Hint: Leven...*"
   ]
  },
  {
   "cell_type": "code",
   "execution_count": 2,
   "metadata": {},
   "outputs": [
    {
     "name": "stdout",
     "output_type": "stream",
     "text": [
      "+------------+---+\n",
      "|      Animal|age|\n",
      "+------------+---+\n",
      "|      Monkey| 10|\n",
      "|      Monkay| 36|\n",
      "|        Mnky|123|\n",
      "|    Elephant| 48|\n",
      "|     Elefant| 16|\n",
      "|    Ellafant|  1|\n",
      "|Hippopotamus| 48|\n",
      "| Hipopotamus| 16|\n",
      "|       Hippo|  1|\n",
      "+------------+---+\n",
      "\n"
     ]
    }
   ],
   "source": [
    "values = [('Monkey',10),('Monkay',36),('Mnky',123), \\\n",
    "          ('Elephant',48),('Elefant',16),('Ellafant',1), \\\n",
    "          ('Hippopotamus',48),('Hipopotamus',16),('Hippo',1)]\n",
    "zoo = spark.createDataFrame(values,['Animal','age'])\n",
    "zoo.show()"
   ]
  },
  {
   "cell_type": "code",
   "execution_count": 5,
   "metadata": {},
   "outputs": [
    {
     "name": "stdout",
     "output_type": "stream",
     "text": [
      "+------------+---+------------+-----------+\n",
      "|      Animal|age|    Animal_1|levenshtein|\n",
      "+------------+---+------------+-----------+\n",
      "|      Monkey| 10|      Monkey|          0|\n",
      "|      Monkay| 36|      Monkey|          1|\n",
      "|        Mnky|123|      Monkey|          2|\n",
      "|    Elephant| 48|    Elephant|          0|\n",
      "|     Elefant| 16|    Elephant|          2|\n",
      "|    Ellafant|  1|    Elephant|          3|\n",
      "|Hippopotamus| 48|Hippopotamus|          0|\n",
      "| Hipopotamus| 16|Hippopotamus|          1|\n",
      "+------------+---+------------+-----------+\n",
      "\n"
     ]
    }
   ],
   "source": [
    "import pyspark.sql.functions as F\n",
    "import pyspark.sql.types as T\n",
    "df = spark.createDataFrame(data=[[\"Monkey\"], [\"Elephant\"], [\"Hippopotamus\"]], schema=['Animal_1'])\n",
    "df_cross= zoo.crossJoin(df)\n",
    "df_cross=df_cross.withColumn(\"levenshtein\", F.levenshtein(F.col(\"Animal_1\"), F.col(\"Animal\")))\n",
    "df_cross.filter(\"levenshtein <=5\").show()\n",
    "# df_cross.show(50)"
   ]
  },
  {
   "cell_type": "code",
   "execution_count": null,
   "metadata": {},
   "outputs": [],
   "source": [
    "\n"
   ]
  },
  {
   "cell_type": "code",
   "execution_count": null,
   "metadata": {},
   "outputs": [],
   "source": []
  },
  {
   "cell_type": "code",
   "execution_count": null,
   "metadata": {},
   "outputs": [],
   "source": []
  },
  {
   "cell_type": "markdown",
   "metadata": {},
   "source": [
    "### Great job! "
   ]
  }
 ],
 "metadata": {
  "kernelspec": {
   "display_name": "Python 3 (ipykernel)",
   "language": "python",
   "name": "python3"
  },
  "language_info": {
   "codemirror_mode": {
    "name": "ipython",
    "version": 3
   },
   "file_extension": ".py",
   "mimetype": "text/x-python",
   "name": "python",
   "nbconvert_exporter": "python",
   "pygments_lexer": "ipython3",
   "version": "3.10.8"
  }
 },
 "nbformat": 4,
 "nbformat_minor": 4
}
